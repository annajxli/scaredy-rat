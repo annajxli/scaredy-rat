{
 "cells": [
  {
   "cell_type": "markdown",
   "metadata": {},
   "source": [
    "# scaredy-rat uses raw data from EthoVision to analyze behavior over time. "
   ]
  },
  {
   "cell_type": "markdown",
   "metadata": {},
   "source": [
    "#### Notes for workarounds:\n",
    "\n",
    " - in the **animal_read** function, the indexes are specific to the ethovision output. sometimes there are more or fewer rows in the header, so the numbers will have to be changed. if that function throws an error, this may be the issue. for reference, the animal ID is row 33 on the excel file, so the corresponding index is **df.iloc[31]**. if the animal ID were on row 34, you would change the index to **df.iloc[32]**.\n",
    " - in the same vein, the header row will need to be readjusted: if header row is on row 36 in the data file, then **skiprows = 35**."
   ]
  },
  {
   "cell_type": "code",
   "execution_count": null,
   "metadata": {
    "collapsed": true
   },
   "outputs": [],
   "source": [
    "# notebook formatting and loading settings - keep same\n",
    "\n",
    "%matplotlib inline\n",
    "%reload_ext autoreload\n",
    "%autoreload 2"
   ]
  },
  {
   "cell_type": "code",
   "execution_count": null,
   "metadata": {},
   "outputs": [],
   "source": [
    "# imports - keep same\n",
    "\n",
    "import os, sys\n",
    "import numpy as np\n",
    "import pandas as pd\n",
    "import matplotlib.pyplot as plt\n",
    "import seaborn as sns\n",
    "from IPython.display import display, HTML\n",
    "import math\n",
    "import time\n",
    "\n",
    "sys.path.append('../src')\n",
    "import scaredyrat as sr"
   ]
  },
  {
   "cell_type": "markdown",
   "metadata": {},
   "source": [
    "# Change variables in this cell:\n",
    "\n",
    "_inpath_ should stay constant as the data should all be in one folder. _outpath_ is wherever you want the analyzed files to go. Each raw .xlsx file has four sheets, one for each animal. Change _sheetname_ every run, and change _filename_ once all the sheets have been run."
   ]
  },
  {
   "cell_type": "code",
   "execution_count": null,
   "metadata": {
    "collapsed": true
   },
   "outputs": [],
   "source": [
    "## Be sure to put r before the path\n",
    "## Easiest to go to correct folder, then copy/paste its path\n",
    "inpath = r'C:\\Users\\Anna\\Documents\\Shansky Lab\\Mindlin\\Mindlin FC Raw Data'\n",
    "\n",
    "## Make sure the folder exists already.\n",
    "## The file does not need to exist; it will be created.\n",
    "outpath = r'C:\\Users\\Anna\\Documents\\Shansky Lab\\170808 mindlin analysis'\n",
    "\n",
    "filename = 'Raw data-Mindlin Project Fear Conditioning-Trial    17 (1).xlsx' ## include .xlsx\n",
    "sheetname = 'Track-Arena 4-Subject 1'"
   ]
  },
  {
   "cell_type": "markdown",
   "metadata": {},
   "source": [
    "## Function calls to read animal data"
   ]
  },
  {
   "cell_type": "code",
   "execution_count": null,
   "metadata": {
    "collapsed": true
   },
   "outputs": [],
   "source": [
    "ID,anim = animal_read(filename,sheetname)\n",
    "\n",
    "tones = sr.find_tones(anim)\n",
    "pretones = sr.find_pretones(anim)\n",
    "shocks = sr.find_shock_responses(anim)\n",
    "pshocks = sr.find_postshocks(anim)"
   ]
  },
  {
   "cell_type": "markdown",
   "metadata": {},
   "source": [
    "## Function calls to find max velocities"
   ]
  },
  {
   "cell_type": "code",
   "execution_count": null,
   "metadata": {
    "collapsed": true
   },
   "outputs": [],
   "source": [
    "## The integer (e.g. the 10 in (tones, 10) determines how many maximum velocities to find)\n",
    "mtone = sr.get_top_vels(tones,10)\n",
    "mptone = sr.get_top_vels(pretones,10)\n",
    "mshock = sr.get_top_vels(shocks,5)\n",
    "mpshock = sr.get_top_vels(pshocks,10)"
   ]
  },
  {
   "cell_type": "markdown",
   "metadata": {},
   "source": [
    "## Function calls to write max velocities to a csv"
   ]
  },
  {
   "cell_type": "code",
   "execution_count": null,
   "metadata": {
    "collapsed": true
   },
   "outputs": [],
   "source": [
    "## Saves the data to a file named with current date.\n",
    "i = time.strftime(\"%m.%d.%Y\")\n",
    "\n",
    "mtoneoutfile = outpath + '\\\\scaredy-rat-tone-max-' + ID + '-' + i + '.csv'\n",
    "mptoneoutfile = outpath + '\\\\scaredy-rat-pretone-max-' + ID + '-' + i + '.csv'\n",
    "mshockoutfile = outpath + '\\\\scaredy-rat-shock-max-' + ID + '-' + i + '.csv'\n",
    "mpshockoutfile = outpath + '\\\\scaredy-rat-postshock-max-' + ID + '-' + i + '.csv'\n",
    "\n",
    "mtone.to_csv(mtoneoutfile)\n",
    "mptone.to_csv(mptoneoutfile)\n",
    "mshock.to_csv(mshockoutfile)\n",
    "mpshock.to_csv(mpshockoutfile)"
   ]
  },
  {
   "cell_type": "markdown",
   "metadata": {},
   "source": [
    "## Function calls for to find means and meds"
   ]
  },
  {
   "cell_type": "code",
   "execution_count": null,
   "metadata": {
    "collapsed": true
   },
   "outputs": [],
   "source": [
    "tmeans = sr.get_means(tones,'Tone')\n",
    "ptmeans = sr.get_means(pretones,'Pre-tone')\n",
    "smeans = sr.get_means(shocks,'Shock')\n",
    "pshockmeans = sr.get_means(pshocks,'Post-shock')\n",
    "allmeans = pd.concat([tmeans, ptmeans, smeans, pshockmeans],axis=1)\n",
    "\n",
    "tmeds = sr.get_meds(tones,'Tone')\n",
    "ptmeds = sr.get_meds(pretones,'Pre-tone')\n",
    "smeds = sr.get_meds(shocks,'Shock')\n",
    "pshockmeds = sr.get_meds(pshocks,'Post-shock')\n",
    "allmeds = pd.concat([tmeds, ptmeds, smeds, pshockmeds],axis=1)"
   ]
  },
  {
   "cell_type": "markdown",
   "metadata": {},
   "source": [
    "## Function calls to write means and meds to a csv"
   ]
  },
  {
   "cell_type": "code",
   "execution_count": null,
   "metadata": {
    "collapsed": true
   },
   "outputs": [],
   "source": [
    "## Saves the data to a file named with current date.\n",
    "i = time.strftime(\"%m.%d.%Y\")\n",
    "meanoutfile = outpath + '\\\\scaredy-rat-mean-' + ID + '-' + i + '.csv'\n",
    "medoutfile = outpath + '\\\\scaredy-rat-med-' + ID + '-' + i + '.csv'\n",
    "\n",
    "allmeans.to_csv(meanoutfile)\n",
    "allmeds.to_csv(medoutfile)"
   ]
  },
  {
   "cell_type": "markdown",
   "metadata": {},
   "source": [
    "## Function calls for plotting"
   ]
  },
  {
   "cell_type": "code",
   "execution_count": null,
   "metadata": {},
   "outputs": [],
   "source": [
    "# Plots are autosaved into outpath folder\n",
    "\n",
    "vels = pd.DataFrame(anim['Velocity'])\n",
    "\n",
    "plt.style.use('seaborn-white')\n",
    "plt.figure(figsize=(16,8),facecolor='white',edgecolor='white')\n",
    "# Plots main velocity\n",
    "plt.plot(vels,color='k',linewidth=0.1)\n",
    "\n",
    "# Loops through tones, plots each one.\n",
    "i = 1\n",
    "while i <= 12:\n",
    "    tone = find_tone_vels(anim,i)\n",
    "    plt.plot(tone,color='c',linewidth=1)\n",
    "    i += 1\n",
    "\n",
    "# Loops through shocks, plots each one.\n",
    "i = 6\n",
    "while i <= 12:\n",
    "    sresponse = find_shock_vels(anim,i)\n",
    "    plt.plot(sresponse,color='m',linewidth=1)\n",
    "    i += 1\n",
    "\n",
    "sns.despine(left=True, bottom=True, right=True)\n",
    "plt.title(ID)\n",
    "plt.ylabel('Velocity (cm/s)')\n",
    "plt.xlabel('Trial time (s)')\n",
    "\n",
    "fname = outpath + '\\\\' + ID + '-vel-plot'\n",
    "plt.savefig(fname, dpi=300)\n",
    "\n",
    "plt.show()\n",
    "plt.close()"
   ]
  }
 ],
 "metadata": {
  "kernelspec": {
   "display_name": "Python 3",
   "language": "python",
   "name": "python3"
  },
  "language_info": {
   "codemirror_mode": {
    "name": "ipython",
    "version": 3
   },
   "file_extension": ".py",
   "mimetype": "text/x-python",
   "name": "python",
   "nbconvert_exporter": "python",
   "pygments_lexer": "ipython3",
   "version": "3.6.3"
  }
 },
 "nbformat": 4,
 "nbformat_minor": 2
}
