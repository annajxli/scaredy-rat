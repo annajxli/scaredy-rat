{
 "cells": [
  {
   "cell_type": "markdown",
   "metadata": {},
   "source": [
    "# scaredy rat uses raw data from EthoVision to analyze behavior over time. "
   ]
  },
  {
   "cell_type": "markdown",
   "metadata": {},
   "source": [
    "#### To run, scroll to variable change cell.\n",
    "Known possible issues:\n",
    " - for whatever reason, the raw data column for Tone 10 doesn't have a space (i.e. \"Tone10\" instead of \"Tone 10). fix this by ctrl-F-ing the raw data and making that replacement. it will throw an error if left unchanged.\n",
    " - there won't be data for the 12th tone due to indexing issues (sometimes recording ends before completing time bins). fix tbd. for now, it just ends at Tone 11.\n",
    " - various things need to be changed if there is a different number of tones - email.\n",
    " - in the **animal_read** function, the indexes are specific to the ethovision output. sometimes there are other rows in the header, so the numbers will have to be changed. if that function throws an error, this may be the issue. for reference, the animal ID is row 33 on the excel file, so the corresponding index is **df.iloc[31]**. if the animal ID were on row 34, you would change the index to **df.iloc[32]**.\n",
    " - in the same vein, the header row will need to be readjusted: if header row is on row 36 in the data file, then **skiprows = 35**.\n",
    "\n",
    "for others, email me at annajxli@gmail.com"
   ]
  },
  {
   "cell_type": "code",
   "execution_count": null,
   "metadata": {
    "collapsed": true
   },
   "outputs": [],
   "source": [
    "%matplotlib inline"
   ]
  },
  {
   "cell_type": "code",
   "execution_count": null,
   "metadata": {
    "collapsed": true
   },
   "outputs": [],
   "source": [
    "import os\n",
    "import numpy as np\n",
    "import pandas as pd\n",
    "import matplotlib.pyplot as plt\n",
    "import seaborn as sns\n",
    "from IPython.display import display, HTML\n",
    "import math\n",
    "import time"
   ]
  },
  {
   "cell_type": "code",
   "execution_count": null,
   "metadata": {
    "collapsed": true
   },
   "outputs": [],
   "source": [
    "def animal_read(filename,sheet):\n",
    "    '''\n",
    "    Returns corresponding animals for sheets\n",
    "    Reads data into dataframe with long header removed.\n",
    "    Uses correct labels as column labels.\n",
    "    Uses time as row indexes.\n",
    "    '''\n",
    "    filepath = os.path.join(inpath,filename)\n",
    "    df = pd.read_excel(filepath,sheetname=sheet,skip_footer=34,index_col=0)\n",
    "    animal = df.iloc[31][0]\n",
    "    print(filename + \" \" + sheet + \" is \" + animal)\n",
    "    \n",
    "    df = pd.read_excel(filepath,sheetname=sheet,skiprows=34,index_col=0,headers=0)\n",
    "    df = df[1:]\n",
    "    df.replace(to_replace='-',value=0,inplace=True)\n",
    "    return(animal,df)"
   ]
  },
  {
   "cell_type": "code",
   "execution_count": null,
   "metadata": {
    "collapsed": true
   },
   "outputs": [],
   "source": [
    "def find_tones(df):\n",
    "    '''\n",
    "    Creates dictionary of each tone. Values are\n",
    "    dataframes for times at which each tone == 1.\n",
    "    '''\n",
    "    tones = {}\n",
    "    i = 1\n",
    "    while i <= 12: # number of tones\n",
    "        num = str(i)\n",
    "        label = 'Tone ' + num\n",
    "        tone = pd.DataFrame(df[df[label] == 1])\n",
    "        tones[i] = tone\n",
    "        i += 1\n",
    "    return(tones)"
   ]
  },
  {
   "cell_type": "code",
   "execution_count": null,
   "metadata": {
    "collapsed": true,
    "scrolled": true
   },
   "outputs": [],
   "source": [
    "def find_pretones(df):\n",
    "    '''\n",
    "    Creates dictionary of each pretone. Values\n",
    "    are dataframes for 30s before tone == 1\n",
    "    '''\n",
    "    pretones = {}\n",
    "    i = 1\n",
    "    while i<= 12:\n",
    "        num = str(i)\n",
    "        label = 'Tone ' + num #Column label for each tone\n",
    "        \n",
    "        tone = df[df[label] == 1] #Tone dataframe\n",
    "        tonestart = tone.iloc[0] #Time for tone start\n",
    "        \n",
    "        starttime = math.floor(tonestart['Recording time']-30) #Time for pretone start\n",
    "        endtime = math.floor(tonestart['Recording time']) #Time for pretone end\n",
    "        itime = df.index.get_loc(starttime,method='bfill') #Index for pretone start\n",
    "        etime = df.index.get_loc(endtime,method='bfill') #Index for pretone end\n",
    "        \n",
    "        pretone = df.iloc[itime:etime] #df for pretone\n",
    "        pretones[i] = pretone #dictionary for all pretones\n",
    "        i += 1\n",
    "    return(pretones)"
   ]
  },
  {
   "cell_type": "code",
   "execution_count": null,
   "metadata": {
    "collapsed": true
   },
   "outputs": [],
   "source": [
    "def find_shock_responses(df):\n",
    "    '''\n",
    "    Creates dictionary of each shock response. Values\n",
    "    are dataframes for 5s after tone == 1\n",
    "    '''\n",
    "    sresponses = {}\n",
    "    i = 1\n",
    "    while i<= 12:\n",
    "        num = str(i)\n",
    "        label = 'Tone ' + num #Column label for each tone\n",
    "        \n",
    "        tone = df[df[label] == 1] #Tone dataframe\n",
    "        toneend = tone.iloc[-1] #Time for tone end\n",
    "        \n",
    "        starttime = math.floor(toneend['Recording time']) #Time for sresponse start\n",
    "        endtime = math.floor(toneend['Recording time'] + 5) #Time for sresponse end\n",
    "        itime = df.index.get_loc(starttime,method='bfill') #Index for sresponse start\n",
    "        etime = df.index.get_loc(endtime,method='bfill') #Index for sresponse end\n",
    "        \n",
    "        sresponse = df.iloc[itime:etime] #df for sresponse\n",
    "        sresponses[i] = sresponse #dictionary for all sresponse\n",
    "        i += 1\n",
    "    return(sresponses)"
   ]
  },
  {
   "cell_type": "code",
   "execution_count": null,
   "metadata": {
    "collapsed": true
   },
   "outputs": [],
   "source": [
    "def find_postshocks(df):\n",
    "    '''\n",
    "    Creates dictionary of each postshock. Values\n",
    "    are dataframes for 5s to 30s after tone == 1\n",
    "    '''\n",
    "    pshocks = {}\n",
    "    i = 1\n",
    "    while i<= 12:\n",
    "        num = str(i)\n",
    "        label = 'Tone ' + num #Column label for each tone\n",
    "        \n",
    "        tone = df[df[label] == 1] #Tone dataframe\n",
    "        toneend = tone.iloc[-1] #Time for tone end\n",
    "        \n",
    "        starttime = math.floor(toneend['Recording time'] + 5) #Time for pshock start\n",
    "        endtime = math.floor(toneend['Recording time'] + 35) #Time for pshock end\n",
    "        itime = df.index.get_loc(starttime,method='bfill') #Index for pshock start\n",
    "        etime = df.index.get_loc(endtime,method='bfill') #Index for pshock end\n",
    "        \n",
    "        pshock = df.iloc[itime:etime] #df for pshock\n",
    "        pshocks[i] = pshock #dictionary for all sresponse\n",
    "        i += 1\n",
    "    return(pshocks)"
   ]
  },
  {
   "cell_type": "code",
   "execution_count": null,
   "metadata": {
    "collapsed": true
   },
   "outputs": [],
   "source": [
    "def get_means(datadict,timebin):\n",
    "    '''\n",
    "    Returns a dataframe of mean velocity of timebin at each tone.\n",
    "    '''\n",
    "    meanlist = []\n",
    "    i = 1\n",
    "    while i <= 12:\n",
    "        epoch = datadict[i]\n",
    "        vels = epoch['Velocity']\n",
    "        mean = round(vels.mean(),3)\n",
    "        meanlist.append(mean)\n",
    "        i += 1\n",
    "    means = pd.DataFrame(meanlist,columns=[timebin + ' Mean Velocity'])\n",
    "    means.index = np.arange(1, len(means) + 1)\n",
    "    return(means)"
   ]
  },
  {
   "cell_type": "code",
   "execution_count": null,
   "metadata": {
    "collapsed": true
   },
   "outputs": [],
   "source": [
    "def get_meds(datadict,timebin):\n",
    "    '''\n",
    "    Returns a dataframe of median velocity of timebin at each tone.\n",
    "    '''\n",
    "    medlist = []\n",
    "    i = 1\n",
    "    while i <= 12:\n",
    "        epoch = datadict[i]\n",
    "        vels = epoch['Velocity']\n",
    "        med = round(vels.median(),3)\n",
    "        medlist.append(med)\n",
    "        i += 1\n",
    "    meds = pd.DataFrame(medlist,columns=[timebin + ' Median Velocity'])\n",
    "    meds.index = np.arange(1, len(meds) + 1)\n",
    "    return(meds)"
   ]
  },
  {
   "cell_type": "code",
   "execution_count": null,
   "metadata": {
    "collapsed": true
   },
   "outputs": [],
   "source": [
    "def get_vels(df):\n",
    "    '''\n",
    "    Creates data of all velocities from original dataframe for plotting.\n",
    "    '''\n",
    "    tonevels = {}\n",
    "    i = 1\n",
    "    while i <= 12: # number of tones\n",
    "        vels = []\n",
    "        num = str(i)\n",
    "        label = 'Tone ' + num\n",
    "        tone = pd.DataFrame(df[df[label] == 1])\n",
    "        vels.append(tone['Velocity'])\n",
    "        tonevels[i] = vels\n",
    "        i += 1\n",
    "    return(tonevels)"
   ]
  },
  {
   "cell_type": "code",
   "execution_count": null,
   "metadata": {
    "collapsed": true
   },
   "outputs": [],
   "source": [
    "def get_top_vels(datadict,nmax):\n",
    "    '''\n",
    "    Returns dataframe of nmax (int) maximum velocities for a timebin.\n",
    "    The second section adds a column for an average of the maxima.\n",
    "    '''\n",
    "    nmaxes = pd.DataFrame()\n",
    "    i = 1\n",
    "    while i <= 12:\n",
    "        epoch = datadict[i]\n",
    "        vels = epoch['Velocity']\n",
    "        vlist = vels.tolist()\n",
    "        vlist.sort()\n",
    "        topvels = pd.DataFrame([vlist[-nmax:-1]])\n",
    "        nmaxes = nmaxes.append(topvels)\n",
    "        i += 1\n",
    "    \n",
    "    nmaxes.index = np.arange(1, nmaxes.shape[0] + 1)\n",
    "    nmaxes.columns = np.arange(1, nmaxes.shape[1] + 1)\n",
    "    \n",
    "    nmaxes['Mean'] = nmaxes.mean(axis = 1)\n",
    "    \n",
    "    return(nmaxes)"
   ]
  },
  {
   "cell_type": "code",
   "execution_count": null,
   "metadata": {
    "collapsed": true
   },
   "outputs": [],
   "source": [
    "def find_tone_vels(df,i):\n",
    "    '''\n",
    "    '''\n",
    "    tone = pd.DataFrame()\n",
    "    num = str(i)\n",
    "    label = 'Tone ' + num\n",
    "    tone = pd.DataFrame(df[df[label] == 1])\n",
    "    \n",
    "    tone = tone['Velocity']\n",
    "    return(tone)"
   ]
  },
  {
   "cell_type": "code",
   "execution_count": null,
   "metadata": {
    "collapsed": true
   },
   "outputs": [],
   "source": [
    "def find_shock_vels(df, i):\n",
    "    '''\n",
    "    '''\n",
    "    sresponse = pd.DataFrame()\n",
    "    num = str(i)\n",
    "    label = 'Tone ' + num\n",
    "    \n",
    "    tone = df[df[label] == 1] #Tone dataframe\n",
    "    toneend = tone.iloc[-1] #Time for tone end\n",
    "    \n",
    "    starttime = math.floor(toneend['Recording time']) #Time for sresponse start\n",
    "    endtime = math.floor(toneend['Recording time'] + 5) #Time for sresponse end\n",
    "    itime = df.index.get_loc(starttime,method='bfill') #Index for sresponse start\n",
    "    etime = df.index.get_loc(endtime,method='bfill') #Index for sresponse end\n",
    "    \n",
    "    sresponse = df.iloc[itime:etime] #df for sresponse\n",
    "    sresponse = sresponse['Velocity']\n",
    "    \n",
    "    return(sresponse)"
   ]
  },
  {
   "cell_type": "markdown",
   "metadata": {},
   "source": [
    "# -------------------------------------------------\n",
    "# Running this program? Start here!\n",
    "## Make changes here for input/output folders and file/sheet names.\n",
    "### Also, run from here: click on this cell, then go to Cell > Run All Below"
   ]
  },
  {
   "cell_type": "code",
   "execution_count": null,
   "metadata": {
    "collapsed": true
   },
   "outputs": [],
   "source": [
    "## This is the folder with the raw data\n",
    "## Be sure to put r before the path\n",
    "## Easiest to go to correct folder, then copy/paste its path\n",
    "inpath = r'C:\\Users\\Anna\\Documents\\Shansky Lab\\Mindlin\\Mindlin FC Raw Data'\n",
    "\n",
    "## This is where the output goes\n",
    "## Make sure the folder exists already.\n",
    "## The file does not need to exist; it will be created.\n",
    "outpath = r'C:\\Users\\Anna\\Documents\\Shansky Lab\\170808 mindlin analysis'\n",
    "\n",
    "filename = 'Raw data-Mindlin Project Fear Conditioning-Trial    17 (1).xlsx' ## include .xlsx\n",
    "sheetname = 'Track-Arena 4-Subject 1'"
   ]
  },
  {
   "cell_type": "markdown",
   "metadata": {},
   "source": [
    "## Function calls to read animal data\n",
    "#### These can take a while to run due to the size of the files."
   ]
  },
  {
   "cell_type": "code",
   "execution_count": null,
   "metadata": {},
   "outputs": [],
   "source": [
    "ID,anim = animal_read(filename,sheetname)\n",
    "\n",
    "tones = find_tones(anim)\n",
    "pretones = find_pretones(anim)\n",
    "shocks = find_shock_responses(anim)\n",
    "pshocks = find_postshocks(anim)"
   ]
  },
  {
   "cell_type": "markdown",
   "metadata": {},
   "source": [
    "## Function calls for maxes"
   ]
  },
  {
   "cell_type": "code",
   "execution_count": null,
   "metadata": {
    "collapsed": true
   },
   "outputs": [],
   "source": [
    "## The integer (e.g. the 10 in (tones, 10) determines how many maximum velocities to find)\n",
    "mtone = get_top_vels(tones,10)\n",
    "mptone = get_top_vels(pretones,10)\n",
    "mshock = get_top_vels(shocks,5)\n",
    "mpshock = get_top_vels(pshocks,10)"
   ]
  },
  {
   "cell_type": "markdown",
   "metadata": {},
   "source": [
    "## This cell saves max velocities"
   ]
  },
  {
   "cell_type": "code",
   "execution_count": null,
   "metadata": {
    "collapsed": true
   },
   "outputs": [],
   "source": [
    "## Saves the data to a file named with current date.\n",
    "i = time.strftime(\"%m.%d.%Y\")\n",
    "\n",
    "mtoneoutfile = outpath + '\\\\scaredy-rat-tone-max-' + ID + '-' + i + '.csv'\n",
    "mptoneoutfile = outpath + '\\\\scaredy-rat-pretone-max-' + ID + '-' + i + '.csv'\n",
    "mshockoutfile = outpath + '\\\\scaredy-rat-shock-max-' + ID + '-' + i + '.csv'\n",
    "mpshockoutfile = outpath + '\\\\scaredy-rat-postshock-max-' + ID + '-' + i + '.csv'\n",
    "\n",
    "mtone.to_csv(mtoneoutfile)\n",
    "mptone.to_csv(mptoneoutfile)\n",
    "mshock.to_csv(mshockoutfile)\n",
    "mpshock.to_csv(mpshockoutfile)"
   ]
  },
  {
   "cell_type": "markdown",
   "metadata": {},
   "source": [
    "## Function calls for means and meds"
   ]
  },
  {
   "cell_type": "code",
   "execution_count": null,
   "metadata": {
    "collapsed": true
   },
   "outputs": [],
   "source": [
    "tmeans = get_means(tones,'Tone')\n",
    "ptmeans = get_means(pretones,'Pre-tone')\n",
    "smeans = get_means(shocks,'Shock')\n",
    "pshockmeans = get_means(pshocks,'Post-shock')\n",
    "allmeans = pd.concat([tmeans, ptmeans, smeans, pshockmeans],axis=1)\n",
    "\n",
    "tmeds = get_meds(tones,'Tone')\n",
    "ptmeds = get_meds(pretones,'Pre-tone')\n",
    "smeds = get_meds(shocks,'Shock')\n",
    "pshockmeds = get_meds(pshocks,'Post-shock')\n",
    "allmeds = pd.concat([tmeds, ptmeds, smeds, pshockmeds],axis=1)"
   ]
  },
  {
   "cell_type": "markdown",
   "metadata": {},
   "source": [
    "## This cell saves the mean/med velocities"
   ]
  },
  {
   "cell_type": "code",
   "execution_count": null,
   "metadata": {
    "collapsed": true
   },
   "outputs": [],
   "source": [
    "## Saves the data to a file named with current date.\n",
    "i = time.strftime(\"%m.%d.%Y\")\n",
    "meanoutfile = outpath + '\\\\scaredy-rat-mean-' + ID + '-' + i + '.csv'\n",
    "medoutfile = outpath + '\\\\scaredy-rat-med-' + ID + '-' + i + '.csv'\n",
    "\n",
    "allmeans.to_csv(meanoutfile)\n",
    "allmeds.to_csv(medoutfile)"
   ]
  },
  {
   "cell_type": "markdown",
   "metadata": {},
   "source": [
    "## Plotting below"
   ]
  },
  {
   "cell_type": "code",
   "execution_count": null,
   "metadata": {},
   "outputs": [],
   "source": [
    "vels = pd.DataFrame(anim['Velocity'])\n",
    "\n",
    "plt.style.use('seaborn-white')\n",
    "plt.figure(figsize=(16,8),facecolor='white',edgecolor='white')\n",
    "# Plots main velocity\n",
    "plt.plot(vels,color='k',linewidth=0.1)\n",
    "\n",
    "# Loops through tones, plots each one.\n",
    "i = 1\n",
    "while i <= 12:\n",
    "    tone = find_tone_vels(anim,i)\n",
    "    plt.plot(tone,color='c',linewidth=1)\n",
    "    i += 1\n",
    "\n",
    "# Loops through shocks, plots each one.\n",
    "i = 6\n",
    "while i <= 12:\n",
    "    sresponse = find_shock_vels(anim,i)\n",
    "    plt.plot(sresponse,color='m',linewidth=1)\n",
    "    i += 1\n",
    "\n",
    "sns.despine(left=True, bottom=True, right=True)\n",
    "plt.title(ID)\n",
    "plt.ylabel('Velocity (cm/s)')\n",
    "plt.xlabel('Trial time (s)')\n",
    "\n",
    "fname = outpath + '\\\\' + ID + '-vel-plot'\n",
    "plt.savefig(fname, dpi=300)\n",
    "\n",
    "plt.show()\n",
    "plt.close()"
   ]
  }
 ],
 "metadata": {
  "kernelspec": {
   "display_name": "Python 3",
   "language": "python",
   "name": "python3"
  },
  "language_info": {
   "codemirror_mode": {
    "name": "ipython",
    "version": 3
   },
   "file_extension": ".py",
   "mimetype": "text/x-python",
   "name": "python",
   "nbconvert_exporter": "python",
   "pygments_lexer": "ipython3",
   "version": "3.6.1"
  }
 },
 "nbformat": 4,
 "nbformat_minor": 2
}
