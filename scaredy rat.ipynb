{
 "cells": [
  {
   "cell_type": "markdown",
   "metadata": {},
   "source": [
    "# scaredy rat uses raw data from EthoVision to analyze behavior over time. "
   ]
  },
  {
   "cell_type": "markdown",
   "metadata": {},
   "source": [
    "#### To restart, go to Kernel > Restart & Run All\n",
    "Known possible issues:\n",
    " - there won't be data for the 12th tone due to indexing issues. fix tbd.\n",
    " - in the animal_read function, the indexes are specific to the ethovision output setup. sometimes there are other rows in the header, so the numbers will have to be changed. if that function throws an error, this may be the issue. for reference, the animal ID is row 33 on the excel file, so the corresponding index is **df.iloc[31]**. **skipfooter** just needs to be set to a value after the row # for animal. the headers are on row 35, so **skiprows=34**.\n",
    "\n",
    "for others, email me at li.anna@husky.neu.edu"
   ]
  },
  {
   "cell_type": "code",
   "execution_count": 1,
   "metadata": {
    "collapsed": true
   },
   "outputs": [],
   "source": [
    "%matplotlib inline"
   ]
  },
  {
   "cell_type": "code",
   "execution_count": 2,
   "metadata": {
    "collapsed": true
   },
   "outputs": [],
   "source": [
    "import numpy as np\n",
    "import pandas as pd\n",
    "import matplotlib.pyplot as plt\n",
    "import seaborn as sns\n",
    "from IPython.display import display, HTML\n",
    "import xlsxwriter\n",
    "from openpyxl import load_workbook\n",
    "import math\n",
    "import time"
   ]
  },
  {
   "cell_type": "code",
   "execution_count": 3,
   "metadata": {
    "collapsed": true
   },
   "outputs": [],
   "source": [
    "def animal_read(filename,sheet):\n",
    "    '''\n",
    "    Returns corresponding animals for sheets\n",
    "    Reads data into dataframe with long header removed.\n",
    "    Uses correct labels as column labels.\n",
    "    Uses time as row indexes.\n",
    "    '''\n",
    "    filepath = inpath + '\\\\' + filename\n",
    "    df = pd.read_excel(filepath,sheetname=sheet,skip_footer=34,index_col=0)\n",
    "    animal = df.iloc[31][0]\n",
    "    print(filename + \" \" + sheet + \" is \" + animal)\n",
    "    \n",
    "    df = pd.read_excel(filepath,sheetname=sheet,skiprows=34,index_col=0,headers=0)\n",
    "    df = df[1:]\n",
    "    df.replace(to_replace='-',value=0,inplace=True)\n",
    "    return(animal,df)"
   ]
  },
  {
   "cell_type": "code",
   "execution_count": 4,
   "metadata": {
    "collapsed": true
   },
   "outputs": [],
   "source": [
    "def find_tones(df):\n",
    "    '''\n",
    "    Creates dictionary of each tone. Values are\n",
    "    dataframes for times at which each tone == 1.\n",
    "    '''\n",
    "    tones = {}\n",
    "    i = 1\n",
    "    while i <= 12: # number of tones\n",
    "        num = str(i)\n",
    "        label = 'Tone ' + num\n",
    "        tone = pd.DataFrame(df[df[label] == 1])\n",
    "        tones[i] = tone\n",
    "        i += 1\n",
    "    return(tones)"
   ]
  },
  {
   "cell_type": "code",
   "execution_count": 5,
   "metadata": {
    "collapsed": true,
    "scrolled": true
   },
   "outputs": [],
   "source": [
    "def find_pretones(df):\n",
    "    '''\n",
    "    Creates dictionary of each pretone. Values\n",
    "    are dataframes for 30s before tone == 1\n",
    "    '''\n",
    "    pretones = {}\n",
    "    i = 1\n",
    "    while i<= 12:\n",
    "        num = str(i)\n",
    "        label = 'Tone ' + num #Column label for each tone\n",
    "        \n",
    "        tone = df[df[label] == 1] #Tone dataframe\n",
    "        tonestart = tone.iloc[0] #Time for tone start\n",
    "        \n",
    "        starttime = math.floor(tonestart['Recording time']-30) #Time for pretone start\n",
    "        endtime = math.floor(tonestart['Recording time']) #Time for pretone end\n",
    "        itime = df.index.get_loc(starttime,method='bfill') #Index for pretone start\n",
    "        etime = df.index.get_loc(endtime,method='bfill') #Index for pretone end\n",
    "        \n",
    "        pretone = df.iloc[itime:etime] #df for pretone\n",
    "        pretones[i] = pretone #dictionary for all pretones\n",
    "        i += 1\n",
    "    return(pretones)"
   ]
  },
  {
   "cell_type": "code",
   "execution_count": 6,
   "metadata": {
    "collapsed": true
   },
   "outputs": [],
   "source": [
    "def find_shock_responses(df):\n",
    "    '''\n",
    "    Creates dictionary of each shock response. Values\n",
    "    are dataframes for 5s after tone == 1\n",
    "    '''\n",
    "    sresponses = {}\n",
    "    i = 1\n",
    "    while i<= 11:\n",
    "        num = str(i)\n",
    "        label = 'Tone ' + num #Column label for each tone\n",
    "        \n",
    "        tone = df[df[label] == 1] #Tone dataframe\n",
    "        toneend = tone.iloc[-1] #Time for tone end\n",
    "        \n",
    "        starttime = math.floor(toneend['Recording time']) #Time for sresponse start\n",
    "        endtime = math.floor(toneend['Recording time'] + 5) #Time for sresponse end\n",
    "        itime = df.index.get_loc(starttime,method='bfill') #Index for sresponse start\n",
    "        etime = df.index.get_loc(endtime,method='bfill') #Index for sresponse end\n",
    "        \n",
    "        sresponse = df.iloc[itime:etime] #df for sresponse\n",
    "        sresponses[i] = sresponse #dictionary for all sresponse\n",
    "        i += 1\n",
    "    return(sresponses)"
   ]
  },
  {
   "cell_type": "code",
   "execution_count": 7,
   "metadata": {
    "collapsed": true
   },
   "outputs": [],
   "source": [
    "def find_postshocks(df):\n",
    "    '''\n",
    "    Creates dictionary of each postshock. Values\n",
    "    are dataframes for 5s after tone == 1\n",
    "    '''\n",
    "    pshocks = {}\n",
    "    i = 1\n",
    "    while i<= 11:\n",
    "        num = str(i)\n",
    "        label = 'Tone ' + num #Column label for each tone\n",
    "        \n",
    "        tone = df[df[label] == 1] #Tone dataframe\n",
    "        toneend = tone.iloc[-1] #Time for tone end\n",
    "        \n",
    "        starttime = math.floor(toneend['Recording time'] + 5) #Time for pshock start\n",
    "        endtime = math.floor(toneend['Recording time'] + 35) #Time for pshock end\n",
    "        itime = df.index.get_loc(starttime,method='bfill') #Index for pshock start\n",
    "        etime = df.index.get_loc(endtime,method='bfill') #Index for pshock end\n",
    "        \n",
    "        pshock = df.iloc[itime:etime] #df for pshock\n",
    "        pshocks[i] = pshock #dictionary for all sresponse\n",
    "        i += 1\n",
    "    return(pshocks)"
   ]
  },
  {
   "cell_type": "code",
   "execution_count": 8,
   "metadata": {
    "collapsed": true
   },
   "outputs": [],
   "source": [
    "def get_total_dists(datadict):\n",
    "    i = 1\n",
    "    while i <= 12:\n",
    "        epoch = datadict[i]\n",
    "        dist = epoch['Distance moved']\n",
    "        total = dist.sum()\n",
    "        print()"
   ]
  },
  {
   "cell_type": "code",
   "execution_count": 9,
   "metadata": {
    "collapsed": true
   },
   "outputs": [],
   "source": [
    "def get_means(datadict,timebin):\n",
    "    meanlist = []\n",
    "    i = 1\n",
    "    while i <= 11:\n",
    "        epoch = datadict[i]\n",
    "        vels = epoch['Velocity']\n",
    "        mean = round(vels.mean(),3)\n",
    "        meanlist.append(mean)\n",
    "        i += 1\n",
    "    means = pd.DataFrame(meanlist,columns=[timebin + ' Mean Velocity'])\n",
    "    means.index = np.arange(1, len(means) + 1)\n",
    "    return(means)"
   ]
  },
  {
   "cell_type": "code",
   "execution_count": 10,
   "metadata": {
    "collapsed": true
   },
   "outputs": [],
   "source": [
    "def get_meds(datadict,timebin):\n",
    "    medlist = []\n",
    "    i = 1\n",
    "    while i <= 11:\n",
    "        epoch = datadict[i]\n",
    "        vels = epoch['Velocity']\n",
    "        med = round(vels.median(),3)\n",
    "        medlist.append(med)\n",
    "        i += 1\n",
    "    meds = pd.DataFrame(medlist,columns=[timebin + ' Median Velocity'])\n",
    "    meds.index = np.arange(1, len(meds) + 1)\n",
    "    return(meds)"
   ]
  },
  {
   "cell_type": "code",
   "execution_count": 11,
   "metadata": {
    "collapsed": true
   },
   "outputs": [],
   "source": [
    "def get_vels(df):\n",
    "    '''\n",
    "    Creates data of all velocities from\n",
    "    original dataframe for plotting.\n",
    "    '''\n",
    "    tonevels = {}\n",
    "    i = 1\n",
    "    while i <= 12: # number of tones\n",
    "        vels = []\n",
    "        num = str(i)\n",
    "        label = 'Tone ' + num\n",
    "        tone = pd.DataFrame(df[df[label] == 1])\n",
    "        vels.append(tone['Velocity'])\n",
    "        tonevels[i] = vels\n",
    "        i += 1\n",
    "    return(tonevels)"
   ]
  },
  {
   "cell_type": "markdown",
   "metadata": {},
   "source": [
    "## Change variables in this cell only"
   ]
  },
  {
   "cell_type": "code",
   "execution_count": 13,
   "metadata": {
    "collapsed": true
   },
   "outputs": [],
   "source": [
    "## Be sure to put r before the path\n",
    "inpath = r'C:\\Users\\Anna\\Documents\\Shansky Lab\\Mindlin\\Mindlin FC Raw Data'\n",
    "## Make sure the outpath folder exists already.\n",
    "## The file does not need to exist; it will be created.\n",
    "outpath = r'C:\\Users\\Anna\\Documents\\Shansky Lab\\BRF Darting\\scaredy rat results'\n",
    "filename = 'Raw data-Mindlin Project Fear Conditioning-Trial    12 (1).xlsx' ## include .xlsx\n",
    "sheetname = 'Track-Arena 1-Subject 1'"
   ]
  },
  {
   "cell_type": "markdown",
   "metadata": {},
   "source": [
    "## These are function calls\n",
    "#### Take a while to run due to size of data sheet"
   ]
  },
  {
   "cell_type": "code",
   "execution_count": 14,
   "metadata": {},
   "outputs": [
    {
     "name": "stdout",
     "output_type": "stream",
     "text": [
      "Raw data-Mindlin Project Fear Conditioning-Trial    12 (1).xlsx Track-Arena 1-Subject 1 is JF13\n"
     ]
    }
   ],
   "source": [
    "ID,anim = animal_read(filename,sheetname)\n",
    "\n",
    "tones = find_tones(anim)\n",
    "pretones = find_pretones(anim)\n",
    "shocks = find_shock_responses(anim)\n",
    "pshocks = find_postshocks(anim)\n",
    "\n",
    "tmeans = get_means(tones,'Tone')\n",
    "ptmeans = get_means(pretones,'Pre-tone')\n",
    "smeans = get_means(shocks,'Shock')\n",
    "pshockmeans = get_means(pshocks,'Post-shock')\n",
    "allmeans = pd.concat([tmeans, ptmeans, smeans, pshockmeans],axis=1)\n",
    "\n",
    "tmeds = get_meds(tones,'Tone')\n",
    "ptmeds = get_meds(pretones,'Pre-tone')\n",
    "smeds = get_meds(shocks,'Shock')\n",
    "pshockmeds = get_meds(pshocks,'Post-shock')\n",
    "allmeds = pd.concat([tmeds, ptmeds, smeds, pshockmeds],axis=1)"
   ]
  },
  {
   "cell_type": "markdown",
   "metadata": {},
   "source": [
    "## Output data and figures will be under this cell\n",
    "#### Figures will also be saved"
   ]
  },
  {
   "cell_type": "code",
   "execution_count": 43,
   "metadata": {},
   "outputs": [
    {
     "data": {
      "text/html": [
       "<div>\n",
       "<style>\n",
       "    .dataframe thead tr:only-child th {\n",
       "        text-align: right;\n",
       "    }\n",
       "\n",
       "    .dataframe thead th {\n",
       "        text-align: left;\n",
       "    }\n",
       "\n",
       "    .dataframe tbody tr th {\n",
       "        vertical-align: top;\n",
       "    }\n",
       "</style>\n",
       "<table border=\"1\" class=\"dataframe\">\n",
       "  <thead>\n",
       "    <tr style=\"text-align: right;\">\n",
       "      <th></th>\n",
       "      <th>Tone Mean Velocity</th>\n",
       "      <th>Pre-tone Mean Velocity</th>\n",
       "      <th>Shock Mean Velocity</th>\n",
       "      <th>Post-shock Mean Velocity</th>\n",
       "    </tr>\n",
       "  </thead>\n",
       "  <tbody>\n",
       "    <tr>\n",
       "      <th>1</th>\n",
       "      <td>1.690</td>\n",
       "      <td>2.652</td>\n",
       "      <td>2.222</td>\n",
       "      <td>2.437</td>\n",
       "    </tr>\n",
       "    <tr>\n",
       "      <th>2</th>\n",
       "      <td>2.947</td>\n",
       "      <td>2.972</td>\n",
       "      <td>1.136</td>\n",
       "      <td>2.800</td>\n",
       "    </tr>\n",
       "    <tr>\n",
       "      <th>3</th>\n",
       "      <td>3.148</td>\n",
       "      <td>2.348</td>\n",
       "      <td>6.160</td>\n",
       "      <td>3.650</td>\n",
       "    </tr>\n",
       "    <tr>\n",
       "      <th>4</th>\n",
       "      <td>2.807</td>\n",
       "      <td>1.686</td>\n",
       "      <td>0.960</td>\n",
       "      <td>3.334</td>\n",
       "    </tr>\n",
       "    <tr>\n",
       "      <th>5</th>\n",
       "      <td>3.363</td>\n",
       "      <td>0.734</td>\n",
       "      <td>1.084</td>\n",
       "      <td>3.567</td>\n",
       "    </tr>\n",
       "    <tr>\n",
       "      <th>6</th>\n",
       "      <td>1.064</td>\n",
       "      <td>2.170</td>\n",
       "      <td>8.261</td>\n",
       "      <td>4.027</td>\n",
       "    </tr>\n",
       "    <tr>\n",
       "      <th>7</th>\n",
       "      <td>1.763</td>\n",
       "      <td>2.460</td>\n",
       "      <td>5.403</td>\n",
       "      <td>1.182</td>\n",
       "    </tr>\n",
       "    <tr>\n",
       "      <th>8</th>\n",
       "      <td>0.328</td>\n",
       "      <td>0.073</td>\n",
       "      <td>7.897</td>\n",
       "      <td>1.202</td>\n",
       "    </tr>\n",
       "    <tr>\n",
       "      <th>9</th>\n",
       "      <td>0.437</td>\n",
       "      <td>0.744</td>\n",
       "      <td>5.814</td>\n",
       "      <td>1.573</td>\n",
       "    </tr>\n",
       "    <tr>\n",
       "      <th>10</th>\n",
       "      <td>1.169</td>\n",
       "      <td>0.520</td>\n",
       "      <td>9.107</td>\n",
       "      <td>1.654</td>\n",
       "    </tr>\n",
       "    <tr>\n",
       "      <th>11</th>\n",
       "      <td>0.576</td>\n",
       "      <td>1.490</td>\n",
       "      <td>7.533</td>\n",
       "      <td>1.924</td>\n",
       "    </tr>\n",
       "  </tbody>\n",
       "</table>\n",
       "</div>"
      ],
      "text/plain": [
       "    Tone Mean Velocity  Pre-tone Mean Velocity  Shock Mean Velocity  \\\n",
       "1                1.690                   2.652                2.222   \n",
       "2                2.947                   2.972                1.136   \n",
       "3                3.148                   2.348                6.160   \n",
       "4                2.807                   1.686                0.960   \n",
       "5                3.363                   0.734                1.084   \n",
       "6                1.064                   2.170                8.261   \n",
       "7                1.763                   2.460                5.403   \n",
       "8                0.328                   0.073                7.897   \n",
       "9                0.437                   0.744                5.814   \n",
       "10               1.169                   0.520                9.107   \n",
       "11               0.576                   1.490                7.533   \n",
       "\n",
       "    Post-shock Mean Velocity  \n",
       "1                      2.437  \n",
       "2                      2.800  \n",
       "3                      3.650  \n",
       "4                      3.334  \n",
       "5                      3.567  \n",
       "6                      4.027  \n",
       "7                      1.182  \n",
       "8                      1.202  \n",
       "9                      1.573  \n",
       "10                     1.654  \n",
       "11                     1.924  "
      ]
     },
     "metadata": {},
     "output_type": "display_data"
    },
    {
     "data": {
      "text/html": [
       "<div>\n",
       "<style>\n",
       "    .dataframe thead tr:only-child th {\n",
       "        text-align: right;\n",
       "    }\n",
       "\n",
       "    .dataframe thead th {\n",
       "        text-align: left;\n",
       "    }\n",
       "\n",
       "    .dataframe tbody tr th {\n",
       "        vertical-align: top;\n",
       "    }\n",
       "</style>\n",
       "<table border=\"1\" class=\"dataframe\">\n",
       "  <thead>\n",
       "    <tr style=\"text-align: right;\">\n",
       "      <th></th>\n",
       "      <th>Tone Median Velocity</th>\n",
       "      <th>Pre-tone Median Velocity</th>\n",
       "      <th>Shock Median Velocity</th>\n",
       "      <th>Post-shock Median Velocity</th>\n",
       "    </tr>\n",
       "  </thead>\n",
       "  <tbody>\n",
       "    <tr>\n",
       "      <th>1</th>\n",
       "      <td>0.881</td>\n",
       "      <td>1.609</td>\n",
       "      <td>1.089</td>\n",
       "      <td>1.521</td>\n",
       "    </tr>\n",
       "    <tr>\n",
       "      <th>2</th>\n",
       "      <td>1.896</td>\n",
       "      <td>1.813</td>\n",
       "      <td>0.869</td>\n",
       "      <td>2.225</td>\n",
       "    </tr>\n",
       "    <tr>\n",
       "      <th>3</th>\n",
       "      <td>1.667</td>\n",
       "      <td>1.341</td>\n",
       "      <td>4.505</td>\n",
       "      <td>2.709</td>\n",
       "    </tr>\n",
       "    <tr>\n",
       "      <th>4</th>\n",
       "      <td>1.782</td>\n",
       "      <td>0.929</td>\n",
       "      <td>0.345</td>\n",
       "      <td>1.690</td>\n",
       "    </tr>\n",
       "    <tr>\n",
       "      <th>5</th>\n",
       "      <td>2.056</td>\n",
       "      <td>0.209</td>\n",
       "      <td>0.802</td>\n",
       "      <td>2.204</td>\n",
       "    </tr>\n",
       "    <tr>\n",
       "      <th>6</th>\n",
       "      <td>0.427</td>\n",
       "      <td>1.014</td>\n",
       "      <td>7.015</td>\n",
       "      <td>1.856</td>\n",
       "    </tr>\n",
       "    <tr>\n",
       "      <th>7</th>\n",
       "      <td>0.741</td>\n",
       "      <td>1.369</td>\n",
       "      <td>1.316</td>\n",
       "      <td>0.277</td>\n",
       "    </tr>\n",
       "    <tr>\n",
       "      <th>8</th>\n",
       "      <td>0.069</td>\n",
       "      <td>0.023</td>\n",
       "      <td>1.275</td>\n",
       "      <td>0.464</td>\n",
       "    </tr>\n",
       "    <tr>\n",
       "      <th>9</th>\n",
       "      <td>0.226</td>\n",
       "      <td>0.406</td>\n",
       "      <td>2.024</td>\n",
       "      <td>0.583</td>\n",
       "    </tr>\n",
       "    <tr>\n",
       "      <th>10</th>\n",
       "      <td>0.156</td>\n",
       "      <td>0.331</td>\n",
       "      <td>4.238</td>\n",
       "      <td>0.621</td>\n",
       "    </tr>\n",
       "    <tr>\n",
       "      <th>11</th>\n",
       "      <td>0.394</td>\n",
       "      <td>0.740</td>\n",
       "      <td>1.624</td>\n",
       "      <td>1.427</td>\n",
       "    </tr>\n",
       "  </tbody>\n",
       "</table>\n",
       "</div>"
      ],
      "text/plain": [
       "    Tone Median Velocity  Pre-tone Median Velocity  Shock Median Velocity  \\\n",
       "1                  0.881                     1.609                  1.089   \n",
       "2                  1.896                     1.813                  0.869   \n",
       "3                  1.667                     1.341                  4.505   \n",
       "4                  1.782                     0.929                  0.345   \n",
       "5                  2.056                     0.209                  0.802   \n",
       "6                  0.427                     1.014                  7.015   \n",
       "7                  0.741                     1.369                  1.316   \n",
       "8                  0.069                     0.023                  1.275   \n",
       "9                  0.226                     0.406                  2.024   \n",
       "10                 0.156                     0.331                  4.238   \n",
       "11                 0.394                     0.740                  1.624   \n",
       "\n",
       "    Post-shock Median Velocity  \n",
       "1                        1.521  \n",
       "2                        2.225  \n",
       "3                        2.709  \n",
       "4                        1.690  \n",
       "5                        2.204  \n",
       "6                        1.856  \n",
       "7                        0.277  \n",
       "8                        0.464  \n",
       "9                        0.583  \n",
       "10                       0.621  \n",
       "11                       1.427  "
      ]
     },
     "metadata": {},
     "output_type": "display_data"
    }
   ],
   "source": [
    "display(allmeans)\n",
    "display(allmeds)"
   ]
  },
  {
   "cell_type": "markdown",
   "metadata": {},
   "source": [
    "## This cell saves the mean/med velocities"
   ]
  },
  {
   "cell_type": "code",
   "execution_count": 16,
   "metadata": {},
   "outputs": [],
   "source": [
    "## Saves the data to a file named with current date.\n",
    "i = time.strftime(\"%m.%d.%Y\")\n",
    "outfile = outpath + '\\\\scaredy-rat-' + ID + '-' + i + '.xlsx'\n",
    "\n",
    "writer = pd.ExcelWriter(outfile, engine='xlsxwriter')\n",
    "allmeans.to_excel(writer)\n",
    "allmeds.to_excel(writer,startrow=13)\n",
    "\n",
    "writer.save()"
   ]
  },
  {
   "cell_type": "markdown",
   "metadata": {},
   "source": [
    "#### future implementations:\n",
    " - _stupid sheet overwriting issue!!_\n",
    " - stuff noted in \"known issues\"\n",
    " - conditional on whether or not data for last one is present\n",
    " - findpeaks_cwt maybe (from signal)\n",
    " - nested functions"
   ]
  },
  {
   "cell_type": "markdown",
   "metadata": {},
   "source": [
    "# Test section\n",
    "### (Code that may or may not work yet)"
   ]
  },
  {
   "cell_type": "code",
   "execution_count": 17,
   "metadata": {},
   "outputs": [],
   "source": [
    "def test_distr(veldict):\n",
    "    i = 1\n",
    "    f, (ax1, ax2) = plt.subplots(nrows=1,ncols=2,sharey=True,figsize=(15,5))\n",
    "    while i <= 6:\n",
    "        leg = 'Tone ' + str(i)\n",
    "        data = pd.DataFrame(veldict[i])\n",
    "        sns.distplot(data,hist=False,axlabel='velocity (cm/s)',label=leg,ax=ax1)\n",
    "        i += 1\n",
    "    while i > 6 and i<= 12:\n",
    "        leg = 'Tone ' + str(i)\n",
    "        data = veldict[i]\n",
    "        sns.distplot(data,hist=False,axlabel='velocity (cm/s)',label=leg,ax=ax2)\n",
    "        i += 1\n",
    "    return(f)"
   ]
  },
  {
   "cell_type": "code",
   "execution_count": 18,
   "metadata": {},
   "outputs": [
    {
     "data": {
      "image/png": "[encoded data removed]",
      "text/plain": [
       "<matplotlib.figure.Figure at 0x2467b6a0d30>"
      ]
     },
     "metadata": {},
     "output_type": "display_data"
    }
   ],
   "source": [
    "tvels = get_vels(anim)\n",
    "test_distr(tvels)\n",
    "plt.suptitle(ID, fontsize=20)\n",
    "plt.show()"
   ]
  },
  {
   "cell_type": "code",
   "execution_count": 41,
   "metadata": {},
   "outputs": [],
   "source": [
    "def plot_vel_distr(veldict):\n",
    "    i = 1\n",
    "    f = plt.figure(figsize=(15,5))\n",
    "    sns.set_style('whitegrid',{'axes.grid' : False})\n",
    "    \n",
    "    ax1 = f.add_subplot(1,2,1)\n",
    "    while i <= 6:\n",
    "        leg = 'Tone ' + str(i)\n",
    "        data = veldict[i]\n",
    "        sns.distplot(data,hist=Tru1e,kde=False,axlabel='velocity (cm/s)',label=leg,ax=ax1)\n",
    "        i += 1\n",
    "    ax1.legend()\n",
    "    \n",
    "    ax2 = f.add_subplot(1,2,2,sharey=ax1,sharex=ax1)\n",
    "    while i > 6 and i<= 12:\n",
    "        leg = 'Tone ' + str(i)\n",
    "        data = veldict[i]\n",
    "        sns.distplot(data,hist=True,kde=False,axlabel='velocity (cm/s)',label=leg,ax=ax2)\n",
    "        i += 1\n",
    "    ax2.legend()\n",
    "    \n",
    "    return(f)"
   ]
  },
  {
   "cell_type": "code",
   "execution_count": null,
   "metadata": {
    "collapsed": true
   },
   "outputs": [],
   "source": [
    "tvels = get_vels(anim)\n",
    "plot_vel_distr(tvels)\n",
    "plt.suptitle(ID, fontsize=20)\n",
    "## Saves figures to same folder named by animal\n",
    "outimg = outpath + '\\\\' + ID + '-vel-dist.tiff'\n",
    "plt.savefig(outimg,dpi=300)\n",
    "plt.show()"
   ]
  }
 ],
 "metadata": {
  "kernelspec": {
   "display_name": "Python 3",
   "language": "python",
   "name": "python3"
  },
  "language_info": {
   "codemirror_mode": {
    "name": "ipython",
    "version": 3
   },
   "file_extension": ".py",
   "mimetype": "text/x-python",
   "name": "python",
   "nbconvert_exporter": "python",
   "pygments_lexer": "ipython3",
   "version": "3.6.1"
  }
 },
 "nbformat": 4,
 "nbformat_minor": 2
}
