{
 "cells": [
  {
   "cell_type": "markdown",
   "metadata": {},
   "source": [
    "# scaredy rat uses raw data from EthoVision to analyze behavior over time. "
   ]
  },
  {
   "cell_type": "markdown",
   "metadata": {},
   "source": [
    "#### To run, change variables in specified cell, then go to Kernel > Restart & Run All\n",
    "Known possible issues:\n",
    " - for whatever reason, the raw data column for Tone 10 doesn't have a space (i.e. \"Tone10\" instead of \"Tone 10). fix this by ctrl-F-ing the raw data and making that replacement. it will throw an error if left unchanged.\n",
    " - there won't be data for the 12th tone due to indexing issues (sometimes recording ends before completing time bins). fix tbd. for now, it just ends at Tone 11.\n",
    " - various things need to be changed if there is a different number of tones - email.\n",
    " - in the **animal_read** function, the indexes are specific to the ethovision output. sometimes there are other rows in the header, so the numbers will have to be changed. if that function throws an error, this may be the issue. for reference, the animal ID is row 33 on the excel file, so the corresponding index is **df.iloc[31]**. if the animal ID were on row 34, you would change the index to **df.iloc[32]**.\n",
    "\n",
    "for others, email me at annajxli@gmail.com"
   ]
  },
  {
   "cell_type": "code",
   "execution_count": null,
   "metadata": {
    "collapsed": true
   },
   "outputs": [],
   "source": [
    "%matplotlib inline"
   ]
  },
  {
   "cell_type": "code",
   "execution_count": null,
   "metadata": {
    "collapsed": true
   },
   "outputs": [],
   "source": [
    "import os\n",
    "import numpy as np\n",
    "import pandas as pd\n",
    "import matplotlib.pyplot as plt\n",
    "import seaborn as sns\n",
    "from IPython.display import display, HTML\n",
    "import math\n",
    "import time"
   ]
  },
  {
   "cell_type": "code",
   "execution_count": null,
   "metadata": {
    "collapsed": true
   },
   "outputs": [],
   "source": [
    "def animal_read(filename,sheet):\n",
    "    '''\n",
    "    Returns corresponding animals for sheets\n",
    "    Reads data into dataframe with long header removed.\n",
    "    Uses correct labels as column labels.\n",
    "    Uses time as row indexes.\n",
    "    '''\n",
    "    filepath = os.path.join(inpath,filename)\n",
    "    df = pd.read_excel(filepath,sheetname=sheet,skip_footer=34,index_col=0)\n",
    "    animal = df.iloc[31][0]\n",
    "    print(filename + \" \" + sheet + \" is \" + animal)\n",
    "    \n",
    "    df = pd.read_excel(filepath,sheetname=sheet,skiprows=34,index_col=0,headers=0)\n",
    "    df = df[1:]\n",
    "    df.replace(to_replace='-',value=0,inplace=True)\n",
    "    return(animal,df)"
   ]
  },
  {
   "cell_type": "code",
   "execution_count": null,
   "metadata": {
    "collapsed": true
   },
   "outputs": [],
   "source": [
    "def find_tones(df):\n",
    "    '''\n",
    "    Creates dictionary of each tone. Values are\n",
    "    dataframes for times at which each tone == 1.\n",
    "    '''\n",
    "    tones = {}\n",
    "    i = 1\n",
    "    while i <= 12: # number of tones\n",
    "        num = str(i)\n",
    "        label = 'Tone ' + num\n",
    "        tone = pd.DataFrame(df[df[label] == 1])\n",
    "        tones[i] = tone\n",
    "        i += 1\n",
    "    return(tones)"
   ]
  },
  {
   "cell_type": "code",
   "execution_count": null,
   "metadata": {
    "collapsed": true,
    "scrolled": true
   },
   "outputs": [],
   "source": [
    "def find_pretones(df):\n",
    "    '''\n",
    "    Creates dictionary of each pretone. Values\n",
    "    are dataframes for 30s before tone == 1\n",
    "    '''\n",
    "    pretones = {}\n",
    "    i = 1\n",
    "    while i<= 12:\n",
    "        num = str(i)\n",
    "        label = 'Tone ' + num #Column label for each tone\n",
    "        \n",
    "        tone = df[df[label] == 1] #Tone dataframe\n",
    "        tonestart = tone.iloc[0] #Time for tone start\n",
    "        \n",
    "        starttime = math.floor(tonestart['Recording time']-30) #Time for pretone start\n",
    "        endtime = math.floor(tonestart['Recording time']) #Time for pretone end\n",
    "        itime = df.index.get_loc(starttime,method='bfill') #Index for pretone start\n",
    "        etime = df.index.get_loc(endtime,method='bfill') #Index for pretone end\n",
    "        \n",
    "        pretone = df.iloc[itime:etime] #df for pretone\n",
    "        pretones[i] = pretone #dictionary for all pretones\n",
    "        i += 1\n",
    "    return(pretones)"
   ]
  },
  {
   "cell_type": "code",
   "execution_count": null,
   "metadata": {
    "collapsed": true
   },
   "outputs": [],
   "source": [
    "def find_shock_responses(df):\n",
    "    '''\n",
    "    Creates dictionary of each shock response. Values\n",
    "    are dataframes for 5s after tone == 1\n",
    "    '''\n",
    "    sresponses = {}\n",
    "    i = 1\n",
    "    while i<= 11:\n",
    "        num = str(i)\n",
    "        label = 'Tone ' + num #Column label for each tone\n",
    "        \n",
    "        tone = df[df[label] == 1] #Tone dataframe\n",
    "        toneend = tone.iloc[-1] #Time for tone end\n",
    "        \n",
    "        starttime = math.floor(toneend['Recording time']) #Time for sresponse start\n",
    "        endtime = math.floor(toneend['Recording time'] + 5) #Time for sresponse end\n",
    "        itime = df.index.get_loc(starttime,method='bfill') #Index for sresponse start\n",
    "        etime = df.index.get_loc(endtime,method='bfill') #Index for sresponse end\n",
    "        \n",
    "        sresponse = df.iloc[itime:etime] #df for sresponse\n",
    "        sresponses[i] = sresponse #dictionary for all sresponse\n",
    "        i += 1\n",
    "    return(sresponses)"
   ]
  },
  {
   "cell_type": "code",
   "execution_count": null,
   "metadata": {
    "collapsed": true
   },
   "outputs": [],
   "source": [
    "def find_postshocks(df):\n",
    "    '''\n",
    "    Creates dictionary of each postshock. Values\n",
    "    are dataframes for 5s after tone == 1\n",
    "    '''\n",
    "    pshocks = {}\n",
    "    i = 1\n",
    "    while i<= 11:\n",
    "        num = str(i)\n",
    "        label = 'Tone ' + num #Column label for each tone\n",
    "        \n",
    "        tone = df[df[label] == 1] #Tone dataframe\n",
    "        toneend = tone.iloc[-1] #Time for tone end\n",
    "        \n",
    "        starttime = math.floor(toneend['Recording time'] + 5) #Time for pshock start\n",
    "        endtime = math.floor(toneend['Recording time'] + 35) #Time for pshock end\n",
    "        itime = df.index.get_loc(starttime,method='bfill') #Index for pshock start\n",
    "        etime = df.index.get_loc(endtime,method='bfill') #Index for pshock end\n",
    "        \n",
    "        pshock = df.iloc[itime:etime] #df for pshock\n",
    "        pshocks[i] = pshock #dictionary for all sresponse\n",
    "        i += 1\n",
    "    return(pshocks)"
   ]
  },
  {
   "cell_type": "code",
   "execution_count": null,
   "metadata": {
    "collapsed": true
   },
   "outputs": [],
   "source": [
    "def get_total_dists(datadict):\n",
    "    i = 1\n",
    "    while i <= 12:\n",
    "        epoch = datadict[i]\n",
    "        dist = epoch['Distance moved']\n",
    "        total = dist.sum()\n",
    "        print()"
   ]
  },
  {
   "cell_type": "code",
   "execution_count": null,
   "metadata": {
    "collapsed": true
   },
   "outputs": [],
   "source": [
    "def get_means(datadict,timebin):\n",
    "    meanlist = []\n",
    "    i = 1\n",
    "    while i <= 11:\n",
    "        epoch = datadict[i]\n",
    "        vels = epoch['Velocity']\n",
    "        mean = round(vels.mean(),3)\n",
    "        meanlist.append(mean)\n",
    "        i += 1\n",
    "    means = pd.DataFrame(meanlist,columns=[timebin + ' Mean Velocity'])\n",
    "    means.index = np.arange(1, len(means) + 1)\n",
    "    return(means)"
   ]
  },
  {
   "cell_type": "code",
   "execution_count": null,
   "metadata": {
    "collapsed": true
   },
   "outputs": [],
   "source": [
    "def get_meds(datadict,timebin):\n",
    "    medlist = []\n",
    "    i = 1\n",
    "    while i <= 11:\n",
    "        epoch = datadict[i]\n",
    "        vels = epoch['Velocity']\n",
    "        med = round(vels.median(),3)\n",
    "        medlist.append(med)\n",
    "        i += 1\n",
    "    meds = pd.DataFrame(medlist,columns=[timebin + ' Median Velocity'])\n",
    "    meds.index = np.arange(1, len(meds) + 1)\n",
    "    return(meds)"
   ]
  },
  {
   "cell_type": "code",
   "execution_count": null,
   "metadata": {
    "collapsed": true
   },
   "outputs": [],
   "source": [
    "def get_vels(df):\n",
    "    '''\n",
    "    Creates data of all velocities from\n",
    "    original dataframe for plotting.\n",
    "    '''\n",
    "    tonevels = {}\n",
    "    i = 1\n",
    "    while i <= 12: # number of tones\n",
    "        vels = []\n",
    "        num = str(i)\n",
    "        label = 'Tone ' + num\n",
    "        tone = pd.DataFrame(df[df[label] == 1])\n",
    "        vels.append(tone['Velocity'])\n",
    "        tonevels[i] = vels\n",
    "        i += 1\n",
    "    return(tonevels)"
   ]
  },
  {
   "cell_type": "markdown",
   "metadata": {},
   "source": [
    "# **Change variables in this cell only**"
   ]
  },
  {
   "cell_type": "code",
   "execution_count": null,
   "metadata": {
    "collapsed": true
   },
   "outputs": [],
   "source": [
    "## This is the folder with the raw data\n",
    "## Be sure to put r before the path\n",
    "## Easiest to go to correct folder, then copy/paste its path\n",
    "inpath = r'C:\\Users\\Anna\\Documents\\Shansky Lab\\BRF Darting\\BRF Anna data\\FC'\n",
    "\n",
    "## This is where the output goes\n",
    "## Make sure the folder exists already.\n",
    "## The file does not need to exist; it will be created.\n",
    "outpath = r'C:\\Users\\Anna\\Documents\\Shansky Lab\\BRF Darting\\scaredy rat results'\n",
    "\n",
    "filename = 'Raw data-BRF Fear Conditioning-Trial     1.xlsx' ## include .xlsx\n",
    "sheetname = 'Track-Arena 4-Subject 1'"
   ]
  },
  {
   "cell_type": "markdown",
   "metadata": {},
   "source": [
    "## These are function calls\n",
    "#### Take a while to run due to size of data sheet"
   ]
  },
  {
   "cell_type": "code",
   "execution_count": null,
   "metadata": {
    "collapsed": true
   },
   "outputs": [],
   "source": [
    "ID,anim = animal_read(filename,sheetname)\n",
    "\n",
    "tones = find_tones(anim)\n",
    "pretones = find_pretones(anim)\n",
    "shocks = find_shock_responses(anim)\n",
    "pshocks = find_postshocks(anim)\n",
    "\n",
    "tmeans = get_means(tones,'Tone')\n",
    "ptmeans = get_means(pretones,'Pre-tone')\n",
    "smeans = get_means(shocks,'Shock')\n",
    "pshockmeans = get_means(pshocks,'Post-shock')\n",
    "allmeans = pd.concat([tmeans, ptmeans, smeans, pshockmeans],axis=1)\n",
    "\n",
    "tmeds = get_meds(tones,'Tone')\n",
    "ptmeds = get_meds(pretones,'Pre-tone')\n",
    "smeds = get_meds(shocks,'Shock')\n",
    "pshockmeds = get_meds(pshocks,'Post-shock')\n",
    "allmeds = pd.concat([tmeds, ptmeds, smeds, pshockmeds],axis=1)"
   ]
  },
  {
   "cell_type": "markdown",
   "metadata": {},
   "source": [
    "## Output data and figures will be under this cell\n",
    "#### Figures will also be saved"
   ]
  },
  {
   "cell_type": "code",
   "execution_count": null,
   "metadata": {
    "collapsed": true
   },
   "outputs": [],
   "source": [
    "display(allmeans)\n",
    "display(allmeds)"
   ]
  },
  {
   "cell_type": "markdown",
   "metadata": {},
   "source": [
    "## This cell saves the mean/med velocities"
   ]
  },
  {
   "cell_type": "code",
   "execution_count": null,
   "metadata": {
    "collapsed": true
   },
   "outputs": [],
   "source": [
    "## Saves the data to a file named with current date.\n",
    "i = time.strftime(\"%m.%d.%Y\")\n",
    "meanoutfile = outpath + '\\\\scaredy-rat-mean-' + ID + '-' + i + '.csv'\n",
    "medoutfile = outpath + '\\\\scaredy-rat-med-' + ID + '-' + i + '.csv'\n",
    "\n",
    "allmeans.to_csv(meanoutfile)\n",
    "allmeds.to_csv(medoutfile)"
   ]
  },
  {
   "cell_type": "markdown",
   "metadata": {},
   "source": [
    "#### future implementations:\n",
    " - \"known issues\"\n",
    " - conditional on whether or not data for last one is present (last tone thing)\n",
    " - automatically detect tone num (probably easiest? idk)\n",
    " - findpeaks_cwt maybe (from signal)\n",
    " - nested functions"
   ]
  },
  {
   "cell_type": "markdown",
   "metadata": {},
   "source": [
    "# Test section\n",
    "### (Code that may or may not work yet)"
   ]
  }
 ],
 "metadata": {
  "kernelspec": {
   "display_name": "Python 3",
   "language": "python",
   "name": "python3"
  },
  "language_info": {
   "codemirror_mode": {
    "name": "ipython",
    "version": 3
   },
   "file_extension": ".py",
   "mimetype": "text/x-python",
   "name": "python",
   "nbconvert_exporter": "python",
   "pygments_lexer": "ipython3",
   "version": "3.6.1"
  }
 },
 "nbformat": 4,
 "nbformat_minor": 2
}
