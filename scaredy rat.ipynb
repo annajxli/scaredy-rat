{
 "cells": [
  {
   "cell_type": "markdown",
   "metadata": {},
   "source": [
    "# scaredy rat uses raw data from EthoVision to analyze behavior over time. "
   ]
  },
  {
   "cell_type": "markdown",
   "metadata": {},
   "source": [
    "#### Be sure to restart the kernel after every use. To run all cells, go to Cell > Run All.\n",
    "Known issues:\n",
    " - there won't be data for the 12th tone due to indexing issues. fix tbd.\n",
    " - \n",
    "\n",
    "for others, email me at li.anna@husky.neu.edu"
   ]
  },
  {
   "cell_type": "code",
   "execution_count": null,
   "metadata": {
    "collapsed": true
   },
   "outputs": [],
   "source": [
    "import numpy as np\n",
    "import pandas as pd\n",
    "import matplotlib.pyplot as plt\n",
    "import seaborn as sns\n",
    "from IPython.display import display, HTML\n",
    "import xlsxwriter\n",
    "from openpyxl import load_workbook\n",
    "import math\n",
    "import time"
   ]
  },
  {
   "cell_type": "code",
   "execution_count": null,
   "metadata": {
    "collapsed": true
   },
   "outputs": [],
   "source": [
    "def animal_read(filename,sheet):\n",
    "    '''\n",
    "    Returns corresponding animals for sheets\n",
    "    Reads data into dataframe with long header removed.\n",
    "    Uses correct labels as column labels.\n",
    "    Uses time as row indexes.\n",
    "    '''\n",
    "    filepath = inpath + '\\\\' + filename\n",
    "    df = pd.read_excel(filepath,sheetname=sheet,skip_footer=34,index_col=0)\n",
    "    animal = df.iloc[31][0]\n",
    "    print(filename + \" \" + sheet + \" is \" + animal)\n",
    "    \n",
    "    df = pd.read_excel(filepath,sheetname=sheet,skiprows=34,index_col=0,headers=0)\n",
    "    df = df[1:]\n",
    "    df.replace(to_replace='-',value=0,inplace=True)\n",
    "    return(animal,df)"
   ]
  },
  {
   "cell_type": "code",
   "execution_count": null,
   "metadata": {
    "collapsed": true
   },
   "outputs": [],
   "source": [
    "def find_tones(df):\n",
    "    '''\n",
    "    Creates dictionary of each tone. Values are\n",
    "    dataframes for times at which each tone == 1.\n",
    "    '''\n",
    "    tones = {}\n",
    "    i = 1\n",
    "    while i <= 12: # number of tones\n",
    "        num = str(i)\n",
    "        label = 'Tone ' + num\n",
    "        tone = pd.DataFrame(df[df[label] == 1])\n",
    "        tones[i] = tone\n",
    "        i += 1\n",
    "    return(tones)"
   ]
  },
  {
   "cell_type": "code",
   "execution_count": null,
   "metadata": {
    "collapsed": true,
    "scrolled": true
   },
   "outputs": [],
   "source": [
    "def find_pretones(df):\n",
    "    '''\n",
    "    Creates dictionary of each pretone. Values\n",
    "    are dataframes for 30s before tone == 1\n",
    "    '''\n",
    "    pretones = {}\n",
    "    i = 1\n",
    "    while i<= 12:\n",
    "        num = str(i)\n",
    "        label = 'Tone ' + num #Column label for each tone\n",
    "        \n",
    "        tone = df[df[label] == 1] #Tone dataframe\n",
    "        tonestart = tone.iloc[0] #Time for tone start\n",
    "        \n",
    "        starttime = math.floor(tonestart['Recording time']-30) #Time for pretone start\n",
    "        endtime = math.floor(tonestart['Recording time']) #Time for pretone end\n",
    "        itime = df.index.get_loc(starttime,method='bfill') #Index for pretone start\n",
    "        etime = df.index.get_loc(endtime,method='bfill') #Index for pretone end\n",
    "        \n",
    "        pretone = df.iloc[itime:etime] #df for pretone\n",
    "        pretones[i] = pretone #dictionary for all pretones\n",
    "        i += 1\n",
    "    return(pretones)"
   ]
  },
  {
   "cell_type": "code",
   "execution_count": null,
   "metadata": {
    "collapsed": true
   },
   "outputs": [],
   "source": [
    "def find_shock_responses(df):\n",
    "    '''\n",
    "    Creates dictionary of each shock response. Values\n",
    "    are dataframes for 5s after tone == 1\n",
    "    '''\n",
    "    sresponses = {}\n",
    "    i = 1\n",
    "    while i<= 11:\n",
    "        num = str(i)\n",
    "        label = 'Tone ' + num #Column label for each tone\n",
    "        \n",
    "        tone = df[df[label] == 1] #Tone dataframe\n",
    "        toneend = tone.iloc[-1] #Time for tone end\n",
    "        \n",
    "        starttime = math.floor(toneend['Recording time']) #Time for sresponse start\n",
    "        endtime = math.floor(toneend['Recording time'] + 5) #Time for sresponse end\n",
    "        itime = df.index.get_loc(starttime,method='bfill') #Index for sresponse start\n",
    "        etime = df.index.get_loc(endtime,method='bfill') #Index for sresponse end\n",
    "        \n",
    "        sresponse = df.iloc[itime:etime] #df for sresponse\n",
    "        sresponses[i] = sresponse #dictionary for all sresponse\n",
    "        i += 1\n",
    "    return(sresponses)"
   ]
  },
  {
   "cell_type": "code",
   "execution_count": null,
   "metadata": {
    "collapsed": true
   },
   "outputs": [],
   "source": [
    "def find_postshocks(df):\n",
    "    '''\n",
    "    Creates dictionary of each postshock. Values\n",
    "    are dataframes for 5s after tone == 1\n",
    "    '''\n",
    "    pshocks = {}\n",
    "    i = 1\n",
    "    while i<= 11:\n",
    "        num = str(i)\n",
    "        label = 'Tone ' + num #Column label for each tone\n",
    "        \n",
    "        tone = df[df[label] == 1] #Tone dataframe\n",
    "        toneend = tone.iloc[-1] #Time for tone end\n",
    "        \n",
    "        starttime = math.floor(toneend['Recording time'] + 5) #Time for pshock start\n",
    "        endtime = math.floor(toneend['Recording time'] + 35) #Time for pshock end\n",
    "        itime = df.index.get_loc(starttime,method='bfill') #Index for pshock start\n",
    "        etime = df.index.get_loc(endtime,method='bfill') #Index for pshock end\n",
    "        \n",
    "        pshock = df.iloc[itime:etime] #df for pshock\n",
    "        pshocks[i] = pshock #dictionary for all sresponse\n",
    "        i += 1\n",
    "    return(pshocks)"
   ]
  },
  {
   "cell_type": "code",
   "execution_count": null,
   "metadata": {
    "collapsed": true
   },
   "outputs": [],
   "source": [
    "def get_total_dists(datadict):\n",
    "    i = 1\n",
    "    while i <= 12:\n",
    "        epoch = datadict[i]\n",
    "        dist = epoch['Distance moved']\n",
    "        total = dist.sum()\n",
    "        print()"
   ]
  },
  {
   "cell_type": "code",
   "execution_count": null,
   "metadata": {
    "collapsed": true
   },
   "outputs": [],
   "source": [
    "def get_means(datadict,timebin):\n",
    "    meanlist = []\n",
    "    i = 1\n",
    "    while i <= 11:\n",
    "        epoch = datadict[i]\n",
    "        vels = epoch['Velocity']\n",
    "        mean = round(vels.mean(),3)\n",
    "        meanlist.append(mean)\n",
    "        i += 1\n",
    "    means = pd.DataFrame(meanlist,columns=[timebin + ' Mean Velocity'])\n",
    "    means.index = np.arange(1, len(means) + 1)\n",
    "    return(means)"
   ]
  },
  {
   "cell_type": "code",
   "execution_count": null,
   "metadata": {
    "collapsed": true
   },
   "outputs": [],
   "source": [
    "def get_meds(datadict,timebin):\n",
    "    medlist = []\n",
    "    i = 1\n",
    "    while i <= 11:\n",
    "        epoch = datadict[i]\n",
    "        vels = epoch['Velocity']\n",
    "        med = round(vels.median(),3)\n",
    "        medlist.append(med)\n",
    "        i += 1\n",
    "    meds = pd.DataFrame(medlist,columns=[timebin + ' Median Velocity'])\n",
    "    meds.index = np.arange(1, len(meds) + 1)\n",
    "    return(meds)"
   ]
  },
  {
   "cell_type": "code",
   "execution_count": null,
   "metadata": {
    "collapsed": true
   },
   "outputs": [],
   "source": [
    "def get_vels(df):\n",
    "    '''\n",
    "    Creates data of all velocities from\n",
    "    original dataframe for plotting.\n",
    "    '''\n",
    "    tonevels = {}\n",
    "    i = 1\n",
    "    while i <= 12: # number of tones\n",
    "        vels = []\n",
    "        num = str(i)\n",
    "        label = 'Tone ' + num\n",
    "        tone = pd.DataFrame(df[df[label] == 1])\n",
    "        vels.append(tone['Velocity'])\n",
    "        tonevels[i] = vels\n",
    "        i += 1\n",
    "    return(tonevels)"
   ]
  },
  {
   "cell_type": "code",
   "execution_count": null,
   "metadata": {},
   "outputs": [],
   "source": [
    "def plot_vel_distr(veldict):\n",
    "    i = 1\n",
    "    f, (ax1, ax2) = plt.subplots(nrows=1,ncols=2,sharey=True,figsize=(15,5))\n",
    "    while i <= 6:\n",
    "        leg = 'Tone ' + str(i)\n",
    "        data = veldict[i]\n",
    "        sns.distplot(data,hist=False,axlabel='velocity (cm/s)',label=leg,ax=ax1)\n",
    "        i += 1\n",
    "    while i > 6 and i<= 12:\n",
    "        leg = 'Tone ' + str(i)\n",
    "        data = veldict[i]\n",
    "        sns.distplot(data,hist=False,axlabel='velocity (cm/s)',label=leg,ax=ax2)\n",
    "        i += 1\n",
    "    return(f)"
   ]
  },
  {
   "cell_type": "markdown",
   "metadata": {},
   "source": [
    "## Change variables in this cell only"
   ]
  },
  {
   "cell_type": "code",
   "execution_count": null,
   "metadata": {
    "collapsed": true
   },
   "outputs": [],
   "source": [
    "## Be sure to put r before the path\n",
    "inpath = r'C:\\Users\\Anna\\Documents\\Shansky Lab\\BRF Darting\\BRF Anna data\\FC'\n",
    "## Make sure the outpath folder exists already.\n",
    "## The file does not need to exist; it will be created.\n",
    "outpath = r'C:\\Users\\Anna\\Documents\\Shansky Lab\\BRF Darting\\scaredy rat results'\n",
    "filename = 'Raw data-BRF Fear Conditioning-Trial     1.xlsx'\n",
    "sheetname = 'Track-Arena 2-Subject 1'"
   ]
  },
  {
   "cell_type": "code",
   "execution_count": null,
   "metadata": {},
   "outputs": [],
   "source": [
    "## These are the actual function calls\n",
    "## Takes a while to run due to size of sheet\n",
    "ID,anim = animal_read(filename,sheetname)\n",
    "\n",
    "tones = find_tones(anim)\n",
    "pretones = find_pretones(anim)\n",
    "shocks = find_shock_responses(anim)\n",
    "pshocks = find_postshocks(anim)\n",
    "\n",
    "tmeans = get_means(tones,'Tone')\n",
    "ptmeans = get_means(pretones,'Pre-tone')\n",
    "smeans = get_means(shocks,'Shock')\n",
    "pshockmeans = get_means(pshocks,'Post-shock')\n",
    "allmeans = pd.concat([tmeans, ptmeans, smeans, pshockmeans],axis=1)\n",
    "\n",
    "tmeds = get_meds(tones,'Tone')\n",
    "ptmeds = get_meds(pretones,'Pre-tone')\n",
    "smeds = get_meds(shocks,'Shock')\n",
    "pshockmeds = get_meds(pshocks,'Post-shock')\n",
    "allmeds = pd.concat([tmeds, ptmeds, smeds, pshockmeds],axis=1)"
   ]
  },
  {
   "cell_type": "markdown",
   "metadata": {},
   "source": [
    "## Output data and figures will be under this cell"
   ]
  },
  {
   "cell_type": "code",
   "execution_count": null,
   "metadata": {},
   "outputs": [],
   "source": [
    "display(allmeans)\n",
    "display(allmeds)\n",
    "tvels = get_vels(anim)\n",
    "plot_vel_distr(tvels)\n",
    "plt.suptitle(ID, fontsize=20)\n",
    "## Saves figures to same folder named by animal\n",
    "outimg = outpath + '\\\\' + ID + '-vel-dist.jpg'\n",
    "plt.savefig(outimg)\n",
    "plt.show()"
   ]
  },
  {
   "cell_type": "code",
   "execution_count": null,
   "metadata": {},
   "outputs": [],
   "source": [
    "## Saves the data to a file named with current date.\n",
    "i = time.strftime(\"%m.%d.%Y\")\n",
    "outfile = outpath + '\\\\scaredy-rat-' + i + '.xlsx'\n",
    "\n",
    "writer = pd.ExcelWriter(outfile, engine='openpyxl') \n",
    "\n",
    "allmeans.to_excel(writer, ID)\n",
    "allmeds.to_excel(writer, ID,startrow=13)\n",
    "\n",
    "writer.save()"
   ]
  },
  {
   "cell_type": "code",
   "execution_count": null,
   "metadata": {},
   "outputs": [],
   "source": [
    "## Saves the data to a file named with current date.\n",
    "i = time.strftime(\"%m.%d.%Y\")\n",
    "outfile = outpath + '\\\\scaredy-rat-' + i + '.xlsx'\n",
    "\n",
    "writer = pd.ExcelWriter(outfile, engine='xlsxwriter')\n",
    "allmeans.to_excel(writer, sheet_name=ID)\n",
    "allmeds.to_excel(writer, sheet_name=ID,startrow=13)\n",
    "\n",
    "writer.save()"
   ]
  },
  {
   "cell_type": "markdown",
   "metadata": {},
   "source": [
    "#### future implementations:\n",
    " - conditional on whether or not data for last one is present\n",
    " - findpeaks_cwt maybe (from signal)\n",
    " - nested functions"
   ]
  },
  {
   "cell_type": "markdown",
   "metadata": {},
   "source": [
    "# Test section\n",
    "### (Code that may or may not work yet)"
   ]
  }
 ],
 "metadata": {
  "kernelspec": {
   "display_name": "Python 3",
   "language": "python",
   "name": "python3"
  },
  "language_info": {
   "codemirror_mode": {
    "name": "ipython",
    "version": 3
   },
   "file_extension": ".py",
   "mimetype": "text/x-python",
   "name": "python",
   "nbconvert_exporter": "python",
   "pygments_lexer": "ipython3",
   "version": "3.6.1"
  }
 },
 "nbformat": 4,
 "nbformat_minor": 2
}
