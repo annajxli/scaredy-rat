{
 "cells": [
  {
   "cell_type": "markdown",
   "metadata": {},
   "source": [
    "# scaredy plot is an offshoot of scaredy rat\n",
    "### Generates plots of velocity over time"
   ]
  },
  {
   "cell_type": "markdown",
   "metadata": {},
   "source": [
    "#### To run, change variables in specified cell, then go to Kernel > Restart & Run All\n",
    "Known possible issues:\n",
    " - for whatever reason, the raw data column for Tone 10 doesn't have a space (i.e. \"Tone10\" instead of \"Tone 10). fix this by ctrl-F-ing the raw data and making that replacement. it will throw an error if left unchanged.\n",
    " - there won't be data for the 12th tone due to indexing issues (sometimes recording ends before completing time bins). fix tbd. for now, it just ends at Tone 11.\n",
    " - various things need to be changed if there is a different number of tones - email.\n",
    " - in the **animal_read** function, the indexes are specific to the ethovision output. sometimes there are other rows in the header, so the numbers will have to be changed. if that function throws an error, this may be the issue. for reference, the animal ID is row 33 on the excel file, so the corresponding index is **df.iloc[31]**. if the animal ID were on row 34, you would change the index to **df.iloc[32]**.\n",
    " - in the same vein, the header row will need to be readjusted: if header row is on row 36 in the data file, then **skiprows = 35**.\n",
    "\n",
    "for others, email me at annajxli@gmail.com"
   ]
  },
  {
   "cell_type": "code",
   "execution_count": null,
   "metadata": {
    "collapsed": true
   },
   "outputs": [],
   "source": [
    "%matplotlib inline"
   ]
  },
  {
   "cell_type": "code",
   "execution_count": null,
   "metadata": {
    "collapsed": true
   },
   "outputs": [],
   "source": [
    "import os\n",
    "import numpy as np\n",
    "import pandas as pd\n",
    "import matplotlib.pyplot as plt\n",
    "import seaborn as sns\n",
    "from IPython.display import display, HTML\n",
    "import math\n",
    "import time"
   ]
  },
  {
   "cell_type": "code",
   "execution_count": null,
   "metadata": {
    "collapsed": true
   },
   "outputs": [],
   "source": [
    "def animal_read(filename,sheet):\n",
    "    '''\n",
    "    Returns corresponding animals for sheets\n",
    "    Reads data into dataframe with long header removed.\n",
    "    Uses correct labels as column labels.\n",
    "    Uses time as row indexes.\n",
    "    '''\n",
    "    filepath = os.path.join(inpath,filename)\n",
    "    df = pd.read_excel(filepath,sheetname=sheet,skip_footer=34,index_col=0)\n",
    "    animal = df.iloc[32][0]\n",
    "    print(filename + \" \" + sheet + \" is \" + animal)\n",
    "    \n",
    "    df = pd.read_excel(filepath,sheetname=sheet,skiprows=35,index_col=0,headers=0)\n",
    "    df = df[1:]\n",
    "    df.replace(to_replace='-',value=0,inplace=True)\n",
    "    return(animal,df)"
   ]
  },
  {
   "cell_type": "code",
   "execution_count": null,
   "metadata": {
    "collapsed": true
   },
   "outputs": [],
   "source": [
    "def find_tone_vels(df,i):\n",
    "    '''\n",
    "    '''\n",
    "    tone = pd.DataFrame()\n",
    "    num = str(i)\n",
    "    label = 'Tone ' + num\n",
    "    tone = pd.DataFrame(df[df[label] == 1])\n",
    "    \n",
    "    tone = tone['Velocity']\n",
    "    return(tone)"
   ]
  },
  {
   "cell_type": "code",
   "execution_count": null,
   "metadata": {
    "collapsed": true
   },
   "outputs": [],
   "source": [
    "def find_shock_vels(df, i):\n",
    "    '''\n",
    "    '''\n",
    "    sresponse = pd.DataFrame()\n",
    "    num = str(i)\n",
    "    label = 'Tone ' + num\n",
    "    \n",
    "    tone = df[df[label] == 1] #Tone dataframe\n",
    "    toneend = tone.iloc[-1] #Time for tone end\n",
    "    \n",
    "    starttime = math.floor(toneend['Recording time']) #Time for sresponse start\n",
    "    endtime = math.floor(toneend['Recording time'] + 5) #Time for sresponse end\n",
    "    itime = df.index.get_loc(starttime,method='bfill') #Index for sresponse start\n",
    "    etime = df.index.get_loc(endtime,method='bfill') #Index for sresponse end\n",
    "    \n",
    "    sresponse = df.iloc[itime:etime] #df for sresponse\n",
    "    sresponse = sresponse['Velocity']\n",
    "    \n",
    "    return(sresponse)"
   ]
  },
  {
   "cell_type": "markdown",
   "metadata": {},
   "source": [
    "# Make changes here for input/output folders and file/sheet names."
   ]
  },
  {
   "cell_type": "code",
   "execution_count": null,
   "metadata": {
    "collapsed": true
   },
   "outputs": [],
   "source": [
    "## This is the folder with the raw data\n",
    "## Be sure to put r before the path\n",
    "## Easiest to go to correct folder, then copy/paste its path\n",
    "inpath = r'C:\\Users\\Anna\\Documents\\Shansky Lab\\170802 ethovision analysis\\raw data'\n",
    "\n",
    "## This is where the output goes\n",
    "## Make sure the folder exists already.\n",
    "## The file does not need to exist; it will be created.\n",
    "outpath = r'C:\\Users\\Anna\\Documents\\Shansky Lab\\170802 ethovision analysis\\outputs'\n",
    "\n",
    "filename = 'Raw data-BRF Summer July 2017-Trial     7.xlsx' ## include .xlsx\n",
    "sheetname = 'Track-Arena 1-Subject 1'"
   ]
  },
  {
   "cell_type": "markdown",
   "metadata": {},
   "source": [
    "## Function calls to read animal data\n",
    "#### These can take a while to run due to the size of the files."
   ]
  },
  {
   "cell_type": "code",
   "execution_count": null,
   "metadata": {},
   "outputs": [],
   "source": [
    "ID,anim = animal_read(filename,sheetname)\n",
    "vels = pd.DataFrame(anim['Velocity'])\n",
    "\n",
    "#tones = find_tones(anim)\n",
    "#shocks = find_shock_responses(anim)"
   ]
  },
  {
   "cell_type": "code",
   "execution_count": null,
   "metadata": {},
   "outputs": [],
   "source": [
    "plt.style.use('seaborn-white')\n",
    "plt.figure(figsize=(16,8),facecolor='white',edgecolor='white')\n",
    "# Plots main velocity\n",
    "plt.plot(vels,color='k',linewidth=0.1)\n",
    "\n",
    "# Loops through tones, plots each one.\n",
    "i = 1\n",
    "while i <= 12:\n",
    "    tone = find_tone_vels(anim,i)\n",
    "    plt.plot(tone,color='c',linewidth=1)\n",
    "    i += 1\n",
    "\n",
    "# Loops through shocks, plots each one.\n",
    "i = 6\n",
    "while i <= 11:\n",
    "    sresponse = find_shock_vels(anim,i)\n",
    "    plt.plot(sresponse,color='m',linewidth=1)\n",
    "    i += 1\n",
    "\n",
    "sns.despine(left=True, bottom=True, right=True)\n",
    "plt.title(ID)\n",
    "plt.ylabel('Velocity (cm/s)')\n",
    "plt.xlabel('Trial time (s)')\n",
    "\n",
    "fname = ID + '-vel-plot'\n",
    "plt.savefig(fname, dpi=300)\n",
    "\n",
    "plt.show()\n",
    "plt.close()"
   ]
  }
 ],
 "metadata": {
  "kernelspec": {
   "display_name": "Python 3",
   "language": "python",
   "name": "python3"
  },
  "language_info": {
   "codemirror_mode": {
    "name": "ipython",
    "version": 3
   },
   "file_extension": ".py",
   "mimetype": "text/x-python",
   "name": "python",
   "nbconvert_exporter": "python",
   "pygments_lexer": "ipython3",
   "version": "3.6.1"
  }
 },
 "nbformat": 4,
 "nbformat_minor": 2
}
