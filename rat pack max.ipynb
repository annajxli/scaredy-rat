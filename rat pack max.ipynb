{
 "cells": [
  {
   "cell_type": "markdown",
   "metadata": {},
   "source": [
    "# rat pack max concatenates csv outputs from scaredy rat max files"
   ]
  },
  {
   "cell_type": "markdown",
   "metadata": {},
   "source": [
    "#### To run, change variables in specified cell, then go to Kernel > Restart & Run All\n",
    "Known possible issues:\n",
    " - nothing???\n",
    " - will maybe add comments later, but not really necessary\n",
    "\n",
    "for others, email me at annajxli@gmail.com"
   ]
  },
  {
   "cell_type": "code",
   "execution_count": null,
   "metadata": {
    "collapsed": true
   },
   "outputs": [],
   "source": [
    "import numpy as np\n",
    "import pandas as pd\n",
    "import os\n",
    "import re"
   ]
  },
  {
   "cell_type": "code",
   "execution_count": null,
   "metadata": {
    "collapsed": true
   },
   "outputs": [],
   "source": [
    "def scaredy_read(csv_dir):\n",
    "    '''\n",
    "    Returns list of files matching startswith string.\n",
    "    '''\n",
    "    ptonecsv = []\n",
    "    tonecsv = []\n",
    "    shockcsv = []\n",
    "    pshockcsv = []\n",
    "    \n",
    "    for file in os.listdir(csv_dir):\n",
    "        if file.startswith(\"scaredy-rat-pretone-max-\"):\n",
    "            f = os.path.join(csv_dir, file)\n",
    "            ptonecsv.append(f)\n",
    "        if file.startswith(\"scaredy-rat-tone-max-\"):\n",
    "            f = os.path.join(csv_dir,file)\n",
    "            tonecsv.append(f)\n",
    "        if file.startswith(\"scaredy-rat-shock-max-\"):\n",
    "            f = os.path.join(csv_dir, file)\n",
    "            shockcsv.append(f)\n",
    "        if file.startswith(\"scaredy-rat-postshock-max-\"):\n",
    "            f = os.path.join(csv_dir,file)\n",
    "            pshockcsv.append(f)\n",
    "    return(ptonecsv, tonecsv, shockcsv, pshockcsv)"
   ]
  },
  {
   "cell_type": "code",
   "execution_count": null,
   "metadata": {
    "collapsed": true
   },
   "outputs": [],
   "source": [
    "def get_anim(csv):\n",
    "    m = re.split('-+', csv)\n",
    "    anim = m[4]\n",
    "    return(anim)"
   ]
  },
  {
   "cell_type": "code",
   "execution_count": null,
   "metadata": {
    "collapsed": true
   },
   "outputs": [],
   "source": [
    "def concat_data(csvlist):\n",
    "    '''\n",
    "    tbins:\n",
    "    0 = tone\n",
    "    1 = pretone\n",
    "    2 = shock\n",
    "    3 = postshock\n",
    "    '''\n",
    "    allanims = pd.DataFrame()\n",
    "    for csv in csvlist:\n",
    "        anim = get_anim(csv)\n",
    "        df = pd.read_csv(csv,index_col=0).transpose()\n",
    "        \n",
    "        meanmaxes = pd.DataFrame(df.iloc[-1]).transpose()\n",
    "        meanmaxes.set_index([[anim]],inplace=True)\n",
    "        \n",
    "        allanims = pd.concat([allanims,meanmaxes])\n",
    "    return(allanims)"
   ]
  },
  {
   "cell_type": "markdown",
   "metadata": {},
   "source": [
    "# Change variables in this cell only"
   ]
  },
  {
   "cell_type": "code",
   "execution_count": null,
   "metadata": {
    "collapsed": true
   },
   "outputs": [],
   "source": [
    "## This is the folder with all of the csvs\n",
    "inpath = r'C:\\Users\\Anna\\Documents\\Shansky Lab\\170802 ethovision analysis\\outputs'\n",
    "## Wherever you want the output\n",
    "outpath = r'C:\\Users\\Anna\\Documents\\Shansky Lab\\170802 ethovision analysis\\outputs\\rat-pack'"
   ]
  },
  {
   "cell_type": "markdown",
   "metadata": {},
   "source": [
    "## Function calls below"
   ]
  },
  {
   "cell_type": "code",
   "execution_count": null,
   "metadata": {},
   "outputs": [],
   "source": [
    "ptonecsv, tonecsv, shockcsv, pshockcsv = scaredy_read(inpath)"
   ]
  },
  {
   "cell_type": "code",
   "execution_count": null,
   "metadata": {},
   "outputs": [],
   "source": [
    "ptones = concat_data(ptonecsv)\n",
    "\n",
    "outfile = os.path.join(outpath,'pretone-rat-pack-maxes.csv')\n",
    "ptones.to_csv(outfile)"
   ]
  },
  {
   "cell_type": "code",
   "execution_count": null,
   "metadata": {
    "collapsed": true
   },
   "outputs": [],
   "source": [
    "tones = concat_data(tonecsv)\n",
    "\n",
    "outfile = os.path.join(outpath,'tone-rat-pack-maxes.csv')\n",
    "tones.to_csv(outfile)"
   ]
  },
  {
   "cell_type": "code",
   "execution_count": null,
   "metadata": {
    "collapsed": true
   },
   "outputs": [],
   "source": [
    "shocks = concat_data(shockcsv)\n",
    "\n",
    "outfile = os.path.join(outpath,'shock-rat-pack-maxes.csv')\n",
    "shocks.to_csv(outfile)"
   ]
  },
  {
   "cell_type": "code",
   "execution_count": null,
   "metadata": {
    "collapsed": true
   },
   "outputs": [],
   "source": [
    "pshocks = concat_data(pshockcsv)\n",
    "\n",
    "outfile = os.path.join(outpath,'postshock-rat-pack-maxes.csv')\n",
    "pshocks.to_csv(outfile)"
   ]
  }
 ],
 "metadata": {
  "kernelspec": {
   "display_name": "Python 3",
   "language": "python",
   "name": "python3"
  },
  "language_info": {
   "codemirror_mode": {
    "name": "ipython",
    "version": 3
   },
   "file_extension": ".py",
   "mimetype": "text/x-python",
   "name": "python",
   "nbconvert_exporter": "python",
   "pygments_lexer": "ipython3",
   "version": "3.6.1"
  }
 },
 "nbformat": 4,
 "nbformat_minor": 2
}
