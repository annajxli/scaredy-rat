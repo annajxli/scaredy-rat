{
 "cells": [
  {
   "cell_type": "markdown",
   "metadata": {},
   "source": [
    "# rat pack concatenates csv outputs from scaredy rat"
   ]
  },
  {
   "cell_type": "markdown",
   "metadata": {},
   "source": [
    "#### To run, change variables in specified cell, then go to Kernel > Restart & Run All\n",
    "Known possible issues:\n",
    " - nothing???\n",
    " - will maybe add comments later, but not really necessary\n",
    "\n",
    "for others, email me at annajxli@gmail.com"
   ]
  },
  {
   "cell_type": "code",
   "execution_count": null,
   "metadata": {
    "collapsed": true
   },
   "outputs": [],
   "source": [
    "import numpy as np\n",
    "import pandas as pd\n",
    "import os\n",
    "import re"
   ]
  },
  {
   "cell_type": "code",
   "execution_count": null,
   "metadata": {
    "collapsed": true
   },
   "outputs": [],
   "source": [
    "def scaredy_read(csv_dir):\n",
    "    meancsv = []\n",
    "    medcsv = []\n",
    "    \n",
    "    for file in os.listdir(csv_dir):\n",
    "        if file.startswith(\"scaredy-rat-mean-\"):\n",
    "            f = os.path.join(csv_dir, file)\n",
    "            meancsv.append(f)\n",
    "        if file.startswith(\"scaredy-rat-med-\"):\n",
    "            f = os.path.join(csv_dir,file)\n",
    "            medcsv.append(f)\n",
    "    return(meancsv,medcsv)"
   ]
  },
  {
   "cell_type": "code",
   "execution_count": null,
   "metadata": {
    "collapsed": true
   },
   "outputs": [],
   "source": [
    "def get_anim(csv):\n",
    "    m = re.split('-(.+?)-', csv)\n",
    "    anim = m[3]\n",
    "    return(anim)"
   ]
  },
  {
   "cell_type": "code",
   "execution_count": null,
   "metadata": {
    "collapsed": true
   },
   "outputs": [],
   "source": [
    "def concat_data(csvlist,tbin):\n",
    "    '''\n",
    "    tbins:\n",
    "    0 = tone\n",
    "    1 = pretone\n",
    "    2 = shock\n",
    "    3 = postshock\n",
    "    '''\n",
    "    if tbin > 3:\n",
    "        return(\"Error: invalid time bin\")\n",
    "    allanims = pd.DataFrame()\n",
    "    for csv in csvlist:\n",
    "        anim = get_anim(csv)\n",
    "        df = pd.read_csv(csv,index_col=0).transpose()\n",
    "        \n",
    "        tonevels = pd.DataFrame(df.iloc[tbin]).transpose()\n",
    "        tonevels.set_index([[anim]],inplace=True)\n",
    "        \n",
    "        allanims = pd.concat([allanims,tonevels])\n",
    "    return(allanims)"
   ]
  },
  {
   "cell_type": "markdown",
   "metadata": {},
   "source": [
    "# Change variables in this cell only"
   ]
  },
  {
   "cell_type": "code",
   "execution_count": null,
   "metadata": {
    "collapsed": true
   },
   "outputs": [],
   "source": [
    "## This is the folder with all of the csvs\n",
    "inpath = r'C:\\Users\\Anna\\Documents\\Shansky Lab\\BRF Darting\\scaredy rat results'\n",
    "## Wherever you want the output\n",
    "outpath = r'C:\\Users\\Anna\\Documents\\Shansky Lab\\BRF Darting\\scaredy rat results'"
   ]
  },
  {
   "cell_type": "markdown",
   "metadata": {},
   "source": [
    "## Function calls below"
   ]
  },
  {
   "cell_type": "code",
   "execution_count": null,
   "metadata": {
    "collapsed": true
   },
   "outputs": [],
   "source": [
    "meancsv,medcsv = scaredy_read(inpath)"
   ]
  },
  {
   "cell_type": "code",
   "execution_count": null,
   "metadata": {
    "collapsed": true
   },
   "outputs": [],
   "source": [
    "means = concat_data(meancsv,0)\n",
    "meds = concat_data(medcsv,0)\n",
    "\n",
    "outfile = os.path.join(outpath,'tone-rat-pack-means.csv')\n",
    "means.to_csv(outfile)\n",
    "\n",
    "outfile = os.path.join(outpath,'tone-rat-pack-meds.csv')\n",
    "meds.to_csv(outfile)"
   ]
  },
  {
   "cell_type": "code",
   "execution_count": null,
   "metadata": {
    "collapsed": true
   },
   "outputs": [],
   "source": [
    "means = concat_data(meancsv,1)\n",
    "meds = concat_data(medcsv,1)\n",
    "\n",
    "outfile = os.path.join(outpath,'pretone-rat-pack-means.csv')\n",
    "means.to_csv(outfile)\n",
    "\n",
    "outfile = os.path.join(outpath,'pretone-rat-pack-meds.csv')\n",
    "meds.to_csv(outfile)"
   ]
  },
  {
   "cell_type": "code",
   "execution_count": null,
   "metadata": {
    "collapsed": true
   },
   "outputs": [],
   "source": [
    "means = concat_data(meancsv,2)\n",
    "meds = concat_data(medcsv,2)\n",
    "\n",
    "outfile = os.path.join(outpath,'shock-rat-pack-means.csv')\n",
    "means.to_csv(outfile)\n",
    "\n",
    "outfile = os.path.join(outpath,'shock-rat-pack-meds.csv')\n",
    "meds.to_csv(outfile)"
   ]
  },
  {
   "cell_type": "code",
   "execution_count": null,
   "metadata": {
    "collapsed": true
   },
   "outputs": [],
   "source": [
    "means = concat_data(meancsv,3)\n",
    "meds = concat_data(medcsv,3)\n",
    "\n",
    "outfile = os.path.join(outpath,'postshock-rat-pack-means.csv')\n",
    "means.to_csv(outfile)\n",
    "\n",
    "outfile = os.path.join(outpath,'postshock-rat-pack-meds.csv')\n",
    "meds.to_csv(outfile)"
   ]
  }
 ],
 "metadata": {
  "kernelspec": {
   "display_name": "Python 3",
   "language": "python",
   "name": "python3"
  },
  "language_info": {
   "codemirror_mode": {
    "name": "ipython",
    "version": 3
   },
   "file_extension": ".py",
   "mimetype": "text/x-python",
   "name": "python",
   "nbconvert_exporter": "python",
   "pygments_lexer": "ipython3",
   "version": "3.6.1"
  }
 },
 "nbformat": 4,
 "nbformat_minor": 2
}
