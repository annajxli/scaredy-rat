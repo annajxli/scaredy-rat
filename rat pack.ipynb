{
 "cells": [
  {
   "cell_type": "markdown",
   "metadata": {},
   "source": [
    "# rat pack concatenates csv outputs from scaredy rat"
   ]
  },
  {
   "cell_type": "markdown",
   "metadata": {},
   "source": [
    "#### To run, change variables in specificed cell, then go to Kernel > Restart & Run All\n",
    "Known possible issues:\n",
    " - nothing???\n",
    " - will maybe add comments later, but not really necessary\n",
    "\n",
    "for others, email me at annajxli@gmail.com"
   ]
  },
  {
   "cell_type": "code",
   "execution_count": null,
   "metadata": {
    "collapsed": true
   },
   "outputs": [],
   "source": [
    "import numpy as np\n",
    "import pandas as pd\n",
    "import os\n",
    "import re"
   ]
  },
  {
   "cell_type": "code",
   "execution_count": null,
   "metadata": {
    "collapsed": true
   },
   "outputs": [],
   "source": [
    "def scaredy_read(csv_dir):\n",
    "    meancsv = []\n",
    "    medcsv = []\n",
    "    \n",
    "    for file in os.listdir(csv_dir):\n",
    "        if file.startswith(\"scaredy-rat-mean-\"):\n",
    "            f = os.path.join(csv_dir, file)\n",
    "            meancsv.append(f)\n",
    "        if file.startswith(\"scaredy-rat-med-\"):\n",
    "            f = os.path.join(csv_dir,file)\n",
    "            medcsv.append(f)\n",
    "    return(meancsv,medcsv)"
   ]
  },
  {
   "cell_type": "code",
   "execution_count": null,
   "metadata": {},
   "outputs": [],
   "source": [
    "def get_anim(csv):\n",
    "    m = re.split('-(.+?)-', csv)\n",
    "    anim = m[3]\n",
    "    return(anim)"
   ]
  },
  {
   "cell_type": "code",
   "execution_count": null,
   "metadata": {
    "collapsed": true
   },
   "outputs": [],
   "source": [
    "def concat_tone_data(csvlist):\n",
    "    allanims = pd.DataFrame()\n",
    "    for csv in csvlist:\n",
    "        anim = get_anim(csv)\n",
    "        df = pd.read_csv(csv,index_col=0).transpose()\n",
    "        \n",
    "        tonevels = pd.DataFrame(df.iloc[0]).transpose()\n",
    "        tonevels.set_index([[anim]],inplace=True)\n",
    "        \n",
    "        allanims = pd.concat([allanims,tonevels])\n",
    "    return(allanims)"
   ]
  },
  {
   "cell_type": "code",
   "execution_count": null,
   "metadata": {
    "collapsed": true
   },
   "outputs": [],
   "source": [
    "def concat_pretone_data(csvlist):\n",
    "    allanims = pd.DataFrame()\n",
    "    for csv in csvlist:\n",
    "        anim = get_anim(csv)\n",
    "        df = pd.read_csv(csv,index_col=0).transpose()\n",
    "        \n",
    "        tonevels = pd.DataFrame(df.iloc[1]).transpose()\n",
    "        tonevels.set_index([[anim]],inplace=True)\n",
    "        \n",
    "        allanims = pd.concat([allanims,tonevels])\n",
    "    return(allanims)"
   ]
  },
  {
   "cell_type": "code",
   "execution_count": null,
   "metadata": {
    "collapsed": true
   },
   "outputs": [],
   "source": [
    "def concat_shock_data(csvlist):\n",
    "    allanims = pd.DataFrame()\n",
    "    for csv in csvlist:\n",
    "        anim = get_anim(csv)\n",
    "        df = pd.read_csv(csv,index_col=0).transpose()\n",
    "        \n",
    "        tonevels = pd.DataFrame(df.iloc[2]).transpose()\n",
    "        tonevels.set_index([[anim]],inplace=True)\n",
    "        \n",
    "        allanims = pd.concat([allanims,tonevels])\n",
    "    return(allanims)"
   ]
  },
  {
   "cell_type": "code",
   "execution_count": null,
   "metadata": {
    "collapsed": true
   },
   "outputs": [],
   "source": [
    "def concat_postshock_data(csvlist):\n",
    "    allanims = pd.DataFrame()\n",
    "    for csv in csvlist:\n",
    "        anim = get_anim(csv)\n",
    "        df = pd.read_csv(csv,index_col=0).transpose()\n",
    "        \n",
    "        tonevels = pd.DataFrame(df.iloc[3]).transpose()\n",
    "        tonevels.set_index([[anim]],inplace=True)\n",
    "        \n",
    "        allanims = pd.concat([allanims,tonevels])\n",
    "    return(allanims)"
   ]
  },
  {
   "cell_type": "markdown",
   "metadata": {},
   "source": [
    "# Change this cell only"
   ]
  },
  {
   "cell_type": "code",
   "execution_count": null,
   "metadata": {
    "collapsed": true
   },
   "outputs": [],
   "source": [
    "inpath = r'C:\\Users\\Anna\\Documents\\Shansky Lab\\BRF Darting\\scaredy rat results'\n",
    "outpath = r'C:\\Users\\Anna\\Documents\\Shansky Lab\\BRF Darting\\scaredy rat results'"
   ]
  },
  {
   "cell_type": "markdown",
   "metadata": {},
   "source": [
    "## Function calls below"
   ]
  },
  {
   "cell_type": "code",
   "execution_count": null,
   "metadata": {},
   "outputs": [],
   "source": [
    "meancsv,medcsv = scaredy_read(inpath)\n",
    "\n",
    "means = concat_tone_data(meancsv)\n",
    "meds = concat_tone_data(medcsv)\n",
    "\n",
    "outfile = os.path.join(outpath,'tone-rat-pack-means.csv')\n",
    "means.to_csv(outfile)\n",
    "\n",
    "outfile = os.path.join(outpath,'tone-rat-pack-meds.csv')\n",
    "meds.to_csv(outfile)\n",
    "\n",
    "means = concat_pretone_data(meancsv)\n",
    "meds = concat_pretone_data(medcsv)\n",
    "\n",
    "outfile = os.path.join(outpath,'pretone-rat-pack-means.csv')\n",
    "means.to_csv(outfile)\n",
    "\n",
    "outfile = os.path.join(outpath,'pretone-rat-pack-meds.csv')\n",
    "meds.to_csv(outfile)\n",
    "\n",
    "means = concat_shock_data(meancsv)\n",
    "meds = concat_shock_data(medcsv)\n",
    "\n",
    "outfile = os.path.join(outpath,'shock-rat-pack-means.csv')\n",
    "means.to_csv(outfile)\n",
    "\n",
    "outfile = os.path.join(outpath,'shock-rat-pack-meds.csv')\n",
    "meds.to_csv(outfile)\n",
    "\n",
    "means = concat_postshock_data(meancsv)\n",
    "meds = concat_postshock_data(medcsv)\n",
    "\n",
    "outfile = os.path.join(outpath,'postshock-rat-pack-means.csv')\n",
    "means.to_csv(outfile)\n",
    "\n",
    "outfile = os.path.join(outpath,'postshock-rat-pack-meds.csv')\n",
    "meds.to_csv(outfile)"
   ]
  }
 ],
 "metadata": {
  "kernelspec": {
   "display_name": "Python 3",
   "language": "python",
   "name": "python3"
  },
  "language_info": {
   "codemirror_mode": {
    "name": "ipython",
    "version": 3
   },
   "file_extension": ".py",
   "mimetype": "text/x-python",
   "name": "python",
   "nbconvert_exporter": "python",
   "pygments_lexer": "ipython3",
   "version": "3.6.1"
  }
 },
 "nbformat": 4,
 "nbformat_minor": 2
}
