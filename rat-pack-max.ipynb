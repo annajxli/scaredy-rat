{
 "cells": [
  {
   "cell_type": "markdown",
   "metadata": {},
   "source": [
    "# rat-pack-max concatenates csv outputs from scaredy-rat max files"
   ]
  },
  {
   "cell_type": "code",
   "execution_count": null,
   "metadata": {
    "collapsed": true
   },
   "outputs": [],
   "source": [
    "import numpy as np\n",
    "import pandas as pd\n",
    "import os, sys"
   ]
  },
  {
   "cell_type": "code",
   "execution_count": null,
   "metadata": {
    "collapsed": true
   },
   "outputs": [],
   "source": [
    "sys.path.append('../src')\n",
    "import scaredyrat as sr"
   ]
  },
  {
   "cell_type": "markdown",
   "metadata": {},
   "source": [
    "# Change variables in this cell only"
   ]
  },
  {
   "cell_type": "code",
   "execution_count": null,
   "metadata": {
    "collapsed": true
   },
   "outputs": [],
   "source": [
    "## This is the folder with all of the csvs\n",
    "inpath = r'C:\\Users\\Anna\\Documents\\Shansky Lab\\170802 ethovision analysis\\outputs'\n",
    "\n",
    "## Wherever you want the output\n",
    "outpath = r'C:\\Users\\Anna\\Documents\\Shansky Lab\\170802 ethovision analysis\\outputs\\rat-pack'"
   ]
  },
  {
   "cell_type": "markdown",
   "metadata": {},
   "source": [
    "## Function calls below"
   ]
  },
  {
   "cell_type": "code",
   "execution_count": null,
   "metadata": {
    "collapsed": true
   },
   "outputs": [],
   "source": [
    "ptonecsv, tonecsv, shockcsv, pshockcsv = sr.scaredy_read(inpath)"
   ]
  },
  {
   "cell_type": "code",
   "execution_count": null,
   "metadata": {
    "collapsed": true
   },
   "outputs": [],
   "source": [
    "ptones = sr.concat_data(ptonecsv)\n",
    "\n",
    "outfile = os.path.join(outpath,'pretone-rat-pack-maxes.csv')\n",
    "ptones.to_csv(outfile)"
   ]
  },
  {
   "cell_type": "code",
   "execution_count": null,
   "metadata": {
    "collapsed": true
   },
   "outputs": [],
   "source": [
    "tones = sr.concat_data(tonecsv)\n",
    "\n",
    "outfile = os.path.join(outpath,'tone-rat-pack-maxes.csv')\n",
    "tones.to_csv(outfile)"
   ]
  },
  {
   "cell_type": "code",
   "execution_count": null,
   "metadata": {
    "collapsed": true
   },
   "outputs": [],
   "source": [
    "shocks = sr.concat_data(shockcsv)\n",
    "\n",
    "outfile = os.path.join(outpath,'shock-rat-pack-maxes.csv')\n",
    "shocks.to_csv(outfile)"
   ]
  },
  {
   "cell_type": "code",
   "execution_count": null,
   "metadata": {
    "collapsed": true
   },
   "outputs": [],
   "source": [
    "pshocks = sr.concat_data(pshockcsv)\n",
    "\n",
    "outfile = os.path.join(outpath,'postshock-rat-pack-maxes.csv')\n",
    "pshocks.to_csv(outfile)"
   ]
  }
 ],
 "metadata": {
  "kernelspec": {
   "display_name": "Python 3",
   "language": "python",
   "name": "python3"
  },
  "language_info": {
   "codemirror_mode": {
    "name": "ipython",
    "version": 3
   },
   "file_extension": ".py",
   "mimetype": "text/x-python",
   "name": "python",
   "nbconvert_exporter": "python",
   "pygments_lexer": "ipython3",
   "version": "3.6.3"
  }
 },
 "nbformat": 4,
 "nbformat_minor": 2
}
