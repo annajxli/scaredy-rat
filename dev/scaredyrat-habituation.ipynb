{
 "cells": [
  {
   "cell_type": "markdown",
   "metadata": {},
   "source": [
    "Single comments are notes to self, double comments are usage notes"
   ]
  },
  {
   "cell_type": "code",
   "execution_count": 1,
   "metadata": {
    "collapsed": true
   },
   "outputs": [],
   "source": [
    "## notebook formatting and loading settings, imports - keep same\n",
    "\n",
    "%matplotlib inline\n",
    "%reload_ext autoreload\n",
    "%autoreload 2\n",
    "\n",
    "import numpy as np\n",
    "import pandas as pd\n",
    "import matplotlib.pyplot as plt\n",
    "import seaborn as sns\n",
    "import math\n",
    "import os, sys\n",
    "\n",
    "sys.path.append('../src')\n",
    "import scaredyrattools as sr"
   ]
  },
  {
   "cell_type": "code",
   "execution_count": 2,
   "metadata": {
    "collapsed": true
   },
   "outputs": [],
   "source": [
    "inpath = '/Users/liannj/Documents/Anna/eCBData/Week10/1Habituation'\n",
    "\n",
    "## Make sure the folder exists already. The file does not need to exist; it will be created.\n",
    "outpath = '/Users/liannj/Documents/Anna/eCBData/OutputWeek10'\n",
    "\n",
    "filelist = ['Raw data-eCB Fear Conditioning Spring 2018-Trial   150.xlsx',\n",
    "           'Raw data-eCB Fear Conditioning Spring 2018-Trial   151.xlsx',\n",
    "           'Raw data-eCB Fear Conditioning Spring 2018-Trial   152.xlsx',\n",
    "           'Raw data-eCB Fear Conditioning Spring 2018-Trial   153.xlsx',\n",
    "           'Raw data-eCB Fear Conditioning Spring 2018-Trial   154.xlsx',\n",
    "           'Raw data-eCB Fear Conditioning Spring 2018-Trial   155.xlsx']\n",
    "\n",
    "sheetlist = ['Track-Arena 1-Subject 1', 'Track-Arena 2-Subject 1', \n",
    "             'Track-Arena 3-Subject 1', 'Track-Arena 4-Subject 1']"
   ]
  },
  {
   "cell_type": "code",
   "execution_count": 3,
   "metadata": {
    "scrolled": false
   },
   "outputs": [
    {
     "name": "stdout",
     "output_type": "stream",
     "text": [
      "Raw data-eCB Fear Conditioning Spring 2018-Trial   150.xlsx Track-Arena 1-Subject 1 is EM57 in Context A\n",
      "Raw data-eCB Fear Conditioning Spring 2018-Trial   150.xlsx Track-Arena 2-Subject 1 is EM58 in Context A\n",
      "Raw data-eCB Fear Conditioning Spring 2018-Trial   150.xlsx Track-Arena 3-Subject 1 is EM59 in Context A\n",
      "Raw data-eCB Fear Conditioning Spring 2018-Trial   150.xlsx Track-Arena 4-Subject 1 is EM60 in Context A\n",
      "Raw data-eCB Fear Conditioning Spring 2018-Trial   151.xlsx Track-Arena 1-Subject 1 is EF53 in Context A\n",
      "Raw data-eCB Fear Conditioning Spring 2018-Trial   151.xlsx Track-Arena 2-Subject 1 is EF54 in Context A\n",
      "Raw data-eCB Fear Conditioning Spring 2018-Trial   151.xlsx Track-Arena 3-Subject 1 is EF55 in Context A\n",
      "Raw data-eCB Fear Conditioning Spring 2018-Trial   151.xlsx Track-Arena 4-Subject 1 is EF56 in Context A\n",
      "Raw data-eCB Fear Conditioning Spring 2018-Trial   152.xlsx Track-Arena 1-Subject 1 is EF57 in Context A\n",
      "Raw data-eCB Fear Conditioning Spring 2018-Trial   152.xlsx Track-Arena 2-Subject 1 is EF58 in Context A\n",
      "Raw data-eCB Fear Conditioning Spring 2018-Trial   152.xlsx Track-Arena 3-Subject 1 is EF59 in Context A\n",
      "Raw data-eCB Fear Conditioning Spring 2018-Trial   152.xlsx Track-Arena 4-Subject 1 is EF60 in Context A\n",
      "Raw data-eCB Fear Conditioning Spring 2018-Trial   153.xlsx Track-Arena 1-Subject 1 is EM57 in Context B\n",
      "Raw data-eCB Fear Conditioning Spring 2018-Trial   153.xlsx Track-Arena 2-Subject 1 is EM58 in Context B\n",
      "Raw data-eCB Fear Conditioning Spring 2018-Trial   153.xlsx Track-Arena 3-Subject 1 is EM59 in Context B\n",
      "Raw data-eCB Fear Conditioning Spring 2018-Trial   153.xlsx Track-Arena 4-Subject 1 is EM60 in Context B\n",
      "Raw data-eCB Fear Conditioning Spring 2018-Trial   154.xlsx Track-Arena 1-Subject 1 is EF53 in Context B\n",
      "Raw data-eCB Fear Conditioning Spring 2018-Trial   154.xlsx Track-Arena 2-Subject 1 is EF54 in Context B\n",
      "Raw data-eCB Fear Conditioning Spring 2018-Trial   154.xlsx Track-Arena 3-Subject 1 is EF55 in Context B\n",
      "Raw data-eCB Fear Conditioning Spring 2018-Trial   154.xlsx Track-Arena 4-Subject 1 is EF56 in Context B\n",
      "Raw data-eCB Fear Conditioning Spring 2018-Trial   155.xlsx Track-Arena 1-Subject 1 is EF57 in Context B\n",
      "Raw data-eCB Fear Conditioning Spring 2018-Trial   155.xlsx Track-Arena 2-Subject 1 is EF58 in Context B\n",
      "Raw data-eCB Fear Conditioning Spring 2018-Trial   155.xlsx Track-Arena 3-Subject 1 is EF59 in Context B\n",
      "Raw data-eCB Fear Conditioning Spring 2018-Trial   155.xlsx Track-Arena 4-Subject 1 is EF60 in Context B\n"
     ]
    }
   ],
   "source": [
    "for file in filelist:\n",
    "    for sheet in sheetlist:\n",
    "        ID,ctx,data = sr.animal_read(inpath, file, sheet)\n",
    "\n",
    "        vels = data['Velocity']\n",
    "\n",
    "        velDict = {1: pd.DataFrame(vels)}\n",
    "        freezing, freezingTimes = sr.get_freezing(velDict,ntones=1,freezingThreshold=0.1,binSecs=1)\n",
    "        freezingOutfile = outpath + '/habituation-freezing-{}-{}.csv'\n",
    "        freezingOutfile = freezingOutfile.format(ctx[-1],ID)\n",
    "        freezing.to_csv(freezingOutfile)\n",
    "\n",
    "        med = round(vels.median(),3)\n",
    "        mean = round(vels.mean(),3)\n",
    "        std = round(vels.std(),3)\n",
    "\n",
    "        df = pd.DataFrame([[ID, ctx, mean, med, std]],index=None)\n",
    "        habitOutfile = outpath + '/habituation-{}-{}.csv'\n",
    "        habitOutfile = habitOutfile.format(ctx[-1],ID)\n",
    "        df.to_csv(habitOutfile)\n",
    "\n",
    "        plt.style.use('seaborn-white')\n",
    "        plt.figure(figsize=(16,8),facecolor='white',edgecolor='white')\n",
    "\n",
    "        # Plots main velocity\n",
    "        plt.plot(vels,color='k',linewidth=0.2)\n",
    "\n",
    "        for timebin in freezingTimes:\n",
    "            plt.plot([timebin[0],timebin[1]],[-0.3,-0.3],color='#ff4f38',linewidth=3)\n",
    "\n",
    "        sns.despine(left=True, bottom=True, right=True)\n",
    "        plt.ylim(-0.7,35)\n",
    "\n",
    "        plt.title(ID + \" Habituation \" + ctx)\n",
    "        plt.ylabel('Velocity (cm/s)')\n",
    "        plt.xlabel('Trial time (s)')\n",
    "\n",
    "        fname = outpath + '/Compressed/habituation-{}-plot-{}'\n",
    "        fname = fname.format(ctx[-1], ID)\n",
    "        plt.savefig(fname, dpi=300)\n",
    "        plt.close()"
   ]
  },
  {
   "cell_type": "code",
   "execution_count": null,
   "metadata": {
    "collapsed": true
   },
   "outputs": [],
   "source": []
  }
 ],
 "metadata": {
  "kernelspec": {
   "display_name": "Python 3",
   "language": "python",
   "name": "python3"
  },
  "language_info": {
   "codemirror_mode": {
    "name": "ipython",
    "version": 3
   },
   "file_extension": ".py",
   "mimetype": "text/x-python",
   "name": "python",
   "nbconvert_exporter": "python",
   "pygments_lexer": "ipython3",
   "version": "3.6.3"
  }
 },
 "nbformat": 4,
 "nbformat_minor": 2
}
