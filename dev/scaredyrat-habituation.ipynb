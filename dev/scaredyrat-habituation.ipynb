{
 "cells": [
  {
   "cell_type": "markdown",
   "metadata": {},
   "source": [
    "Single comments are notes to self, double comments are usage notes"
   ]
  },
  {
   "cell_type": "code",
   "execution_count": null,
   "metadata": {
    "collapsed": true
   },
   "outputs": [],
   "source": [
    "## notebook formatting and loading settings, imports - keep same\n",
    "\n",
    "%matplotlib inline\n",
    "%reload_ext autoreload\n",
    "%autoreload 2\n",
    "\n",
    "import numpy as np\n",
    "import pandas as pd\n",
    "import matplotlib.pyplot as plt\n",
    "import seaborn as sns\n",
    "from scipy.interpolate import interp1d # take out if no more\n",
    "from IPython.display import display, HTML\n",
    "import math\n",
    "from datetime import datetime\n",
    "import os, sys\n",
    "\n",
    "sys.path.append('../src')\n",
    "import scaredyrattools as sr"
   ]
  },
  {
   "cell_type": "code",
   "execution_count": null,
   "metadata": {
    "collapsed": true
   },
   "outputs": [],
   "source": [
    "## Be sure to put r before the path\n",
    "## Easiest to go to correct folder, then copy/paste its path\n",
    "\n",
    "# just change week number every time? i think?\n",
    "# need to modify for easy use on non-unix: can I find a module to do this?\n",
    "inpath = '/Users/liannj/Documents/Anna/eCBData/Week1/1Habituation'\n",
    "\n",
    "## Make sure the folder exists already. The file does not need to exist; it will be created.\n",
    "outpath = '/Users/liannj/Documents/Anna/eCBData/OutputWeek1/Compressed'\n",
    "\n",
    "# Future: attempting to loop through all files in a folder. Suuuuper tbd.\n",
    "filename = 'Raw data-eCB Fear Conditioning Spring 2018-Trial    21.xlsx' ## include .xlsx\n",
    "\n",
    "# TRYING THIS BECAUSE THEY'RE ALL THE SAME\n",
    "sheetlist = ['Track-Arena 1-Subject 1', 'Track-Arena 2-Subject 1', \n",
    "             'Track-Arena 3-Subject 1', 'Track-Arena 4-Subject 1']"
   ]
  },
  {
   "cell_type": "code",
   "execution_count": null,
   "metadata": {
    "scrolled": false
   },
   "outputs": [],
   "source": [
    "for sheet in sheetlist:\n",
    "    ID,ctx,group,data = sr.animal_read(inpath, filename, sheet)\n",
    "    \n",
    "    i = group\n",
    "    vels = data['Velocity']\n",
    "    \n",
    "    med = round(vels.median(),3)\n",
    "    mean = round(vels.mean(),3)\n",
    "    std = round(vels.std(),3)\n",
    "    \n",
    "    df = pd.DataFrame([[ID, ctx, i, mean, med, std]],index=None)\n",
    "    habitOutfile = outpath + '/habituation-{}-{}.csv'\n",
    "    habitOutfile = habitOutfile.format(ID,ctx[-1])\n",
    "    df.to_csv(habitOutfile)\n",
    "    \n",
    "    plt.style.use('seaborn-white')\n",
    "    plt.figure(figsize=(16,8),facecolor='white',edgecolor='white')\n",
    "    \n",
    "    # Plots main velocity\n",
    "    plt.plot(vels,color='k',linewidth=0.2)\n",
    "    \n",
    "    # Plots smoothed velocity\n",
    "    #f = interp1d(vels.index.values, vels.iloc[:,0])\n",
    "    #xnew = np.arange(0, 600, 5)\n",
    "    #ynew = f(xnew)\n",
    "    #plt.plot(xnew, ynew,'r--')\n",
    "\n",
    "    sns.despine(left=True, bottom=True, right=True)\n",
    "    plt.ylim(ymax=20)\n",
    "    plt.title(ID + \" Habituation \" + ctx)\n",
    "    plt.ylabel('Velocity (cm/s)')\n",
    "    plt.xlabel('Trial time (s)')\n",
    "\n",
    "    fname = outpath + '/habituation-plot-{}-{}'\n",
    "    fname = fname.format(ctx[-1], ID)\n",
    "    plt.savefig(fname, dpi=300)"
   ]
  },
  {
   "cell_type": "markdown",
   "metadata": {
    "scrolled": false
   },
   "source": [
    "vels = pd.DataFrame(vels)\n",
    "testvels = pd.DataFrame(vels.head(50))\n",
    "freezeThresh = 1000\n",
    "frozenSecs = 0\n",
    "\n",
    "sec = 2\n",
    "\n",
    "epoch = []\n",
    "for frame in testvels.iterrows():\n",
    "    if frame[0] >= sec and frame[0] < sec + 1:\n",
    "        epoch.append(float(frame[1])) \n",
    "        print(epoch)\n",
    "    else:\n",
    "        epoch = []\n",
    "    #sec += 1\n",
    "    \n",
    "print(epoch)\n",
    "    #print(float(frame[1]))"
   ]
  },
  {
   "cell_type": "markdown",
   "metadata": {
    "scrolled": false
   },
   "source": [
    "vels = pd.DataFrame(vels)\n",
    "testvels = pd.DataFrame(vels.head(20))\n",
    "freezeThresh = 1000\n",
    "frozenSecs = 0\n",
    "\n",
    "sec = 1\n",
    "epoch = []\n",
    "for frame in vels.iterrows():\n",
    "    if frame[0] >= sec and frame[0] < sec + 1:\n",
    "        print(frame[0])\n",
    "        break\n",
    "        \n",
    "        velsinSec.append(float(frame[1]))    \n",
    "    if np.mean(velsinSec) < freezeThresh:\n",
    "        frozenSecs += 1\n",
    "    sec += 1\n",
    "#print(frozenSecs)\n",
    "#for vel in secVels:\n",
    "#if vel < 1:"
   ]
  },
  {
   "cell_type": "code",
   "execution_count": null,
   "metadata": {
    "collapsed": true
   },
   "outputs": [],
   "source": []
  }
 ],
 "metadata": {
  "kernelspec": {
   "display_name": "Python 3",
   "language": "python",
   "name": "python3"
  },
  "language_info": {
   "codemirror_mode": {
    "name": "ipython",
    "version": 3
   },
   "file_extension": ".py",
   "mimetype": "text/x-python",
   "name": "python",
   "nbconvert_exporter": "python",
   "pygments_lexer": "ipython3",
   "version": "3.6.3"
  }
 },
 "nbformat": 4,
 "nbformat_minor": 2
}
