{
 "cells": [
  {
   "cell_type": "markdown",
   "metadata": {},
   "source": [
    "# rat-pack-max concatenates csv outputs from scaredy-rat max files"
   ]
  },
  {
   "cell_type": "code",
   "execution_count": 1,
   "metadata": {
    "collapsed": true
   },
   "outputs": [],
   "source": [
    "%matplotlib inline\n",
    "%reload_ext autoreload\n",
    "%autoreload 2\n",
    "\n",
    "import numpy as np\n",
    "import pandas as pd\n",
    "import os, sys\n",
    "\n",
    "sys.path.append('../src')\n",
    "import scaredyrattools as sr"
   ]
  },
  {
   "cell_type": "markdown",
   "metadata": {},
   "source": [
    "# Change variables in this cell only"
   ]
  },
  {
   "cell_type": "code",
   "execution_count": 2,
   "metadata": {
    "collapsed": true
   },
   "outputs": [],
   "source": [
    "## This is the folder with all of the csvs\n",
    "inpath = '/Users/liannj/Documents/Anna/PAG-inj-FC-data'\n",
    "\n",
    "## Wherever you want the output\n",
    "outpath = '/Users/liannj/Documents/Anna/PAG-inj-FC-data/Compressed'"
   ]
  },
  {
   "cell_type": "markdown",
   "metadata": {},
   "source": [
    "## Function calls below"
   ]
  },
  {
   "cell_type": "code",
   "execution_count": 3,
   "metadata": {
    "collapsed": true
   },
   "outputs": [],
   "source": [
    "maxToneCSV, maxPretoneCSV, maxShockCSV, maxPostshockCSV = sr.scaredy_read_FC_max(inpath)"
   ]
  },
  {
   "cell_type": "code",
   "execution_count": 4,
   "metadata": {
    "collapsed": true,
    "scrolled": false
   },
   "outputs": [],
   "source": [
    "toneMaxes = sr.compress_FC_max_data(maxToneCSV)\n",
    "outfile = os.path.join(outpath,'All-FC-max-tone-vels.csv')\n",
    "toneMaxes.to_csv(outfile)\n",
    "\n",
    "pretoneMaxes = sr.compress_FC_max_data(maxPretoneCSV)\n",
    "outfile = os.path.join(outpath,'All-FC-max-pretone-vels.csv')\n",
    "pretoneMaxes.to_csv(outfile)\n",
    "\n",
    "shockMaxes = sr.compress_FC_max_data(maxShockCSV)\n",
    "outfile = os.path.join(outpath,'All-FC-max-shock-vels.csv')\n",
    "shockMaxes.to_csv(outfile)\n",
    "\n",
    "postshockMaxes = sr.compress_FC_max_data(maxPostshockCSV)\n",
    "outfile = os.path.join(outpath,'All-FC-max-postshock-vels.csv')\n",
    "postshockMaxes.to_csv(outfile)"
   ]
  },
  {
   "cell_type": "code",
   "execution_count": null,
   "metadata": {
    "collapsed": true
   },
   "outputs": [],
   "source": []
  }
 ],
 "metadata": {
  "kernelspec": {
   "display_name": "Python 3",
   "language": "python",
   "name": "python3"
  },
  "language_info": {
   "codemirror_mode": {
    "name": "ipython",
    "version": 3
   },
   "file_extension": ".py",
   "mimetype": "text/x-python",
   "name": "python",
   "nbconvert_exporter": "python",
   "pygments_lexer": "ipython3",
   "version": "3.6.3"
  }
 },
 "nbformat": 4,
 "nbformat_minor": 2
}
