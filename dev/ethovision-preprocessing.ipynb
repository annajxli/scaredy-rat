{
 "cells": [
  {
   "cell_type": "code",
   "execution_count": 1,
   "metadata": {
    "collapsed": true
   },
   "outputs": [],
   "source": [
    "filepath = '/Users/liannj/Documents/Anna/eCBData/Week10/3Ext'"
   ]
  },
  {
   "cell_type": "code",
   "execution_count": 2,
   "metadata": {
    "collapsed": true
   },
   "outputs": [],
   "source": [
    "%reload_ext autoreload\n",
    "%autoreload 2\n",
    "\n",
    "import numpy as np\n",
    "import pandas as pd\n",
    "import datetime\n",
    "import os, sys"
   ]
  },
  {
   "cell_type": "code",
   "execution_count": 3,
   "metadata": {},
   "outputs": [
    {
     "name": "stdout",
     "output_type": "stream",
     "text": [
      "Sheets read: 157 seconds elapsed\n",
      "Values replaced: 12 seconds elapsed\n",
      "Sheets written: 76 seconds elapsed\n",
      "Sheets read: 951 seconds elapsed\n",
      "Values replaced: 12 seconds elapsed\n",
      "Sheets written: 77 seconds elapsed\n",
      "Sheets read: 138 seconds elapsed\n",
      "Values replaced: 13 seconds elapsed\n",
      "Sheets written: 724 seconds elapsed\n"
     ]
    }
   ],
   "source": [
    "# list of sheets\n",
    "sheetlist = ['Track-Arena 1-Subject 1', 'Track-Arena 2-Subject 1', \n",
    "             'Track-Arena 3-Subject 1', 'Track-Arena 4-Subject 1']\n",
    "\n",
    "# key values to replace/replace with\n",
    "toReplace = ['Tone1', 'Tone2', 'Tone3', 'Tone4', 'Tone5',\n",
    "            'Tone6', 'Tone7', 'Tone8', 'Tone9', 'Tone10',\n",
    "            'Tone11', 'Tone12', 'Tone13', 'Tone14', 'Tone15',\n",
    "            'Tone16', 'Tone17', 'Tone18', 'Tone19', 'Tone20']\n",
    "\n",
    "replaceWith = ['Tone 1', 'Tone 2', 'Tone 3', 'Tone 4', 'Tone 5',\n",
    "            'Tone 6', 'Tone 7', 'Tone 8', 'Tone 9', 'Tone 10',\n",
    "            'Tone 11', 'Tone 12', 'Tone 13', 'Tone 14', 'Tone 15',\n",
    "            'Tone 16', 'Tone 17', 'Tone 18', 'Tone 19', 'Tone 20']\n",
    "\n",
    "\n",
    "## changing begins here: don't change below\n",
    "# create list of files\n",
    "filelist = []\n",
    "\n",
    "for file in os.listdir(filepath):\n",
    "    if file.startswith(\"Raw data-eCB Fear Conditioning Spring 2018\"):\n",
    "        f = os.path.join(filepath, file)\n",
    "        filelist.append(f)\n",
    "\n",
    "for file in filelist:\n",
    "    \n",
    "    # read files\n",
    "    starttime = datetime.datetime.now()\n",
    "    \n",
    "    df0 = pd.read_excel(file,sheetlist[0],headers=None)\n",
    "    df1 = pd.read_excel(file,sheetlist[1],headers=None)\n",
    "    df2 = pd.read_excel(file,sheetlist[2],headers=None)\n",
    "    df3 = pd.read_excel(file,sheetlist[3],headers=None)\n",
    "    \n",
    "    endtime = datetime.datetime.now()\n",
    "    elapsed = endtime-starttime\n",
    "    \n",
    "    print('Sheets read: {} seconds elapsed'.format(elapsed.seconds))\n",
    "    \n",
    "    # replace predefined strs\n",
    "    starttime = datetime.datetime.now()\n",
    "    \n",
    "    df0 = df0.replace(to_replace=toReplace, value=replaceWith)\n",
    "    df1 = df1.replace(to_replace=toReplace, value=replaceWith)\n",
    "    df2 = df2.replace(to_replace=toReplace, value=replaceWith)\n",
    "    df3 = df3.replace(to_replace=toReplace, value=replaceWith)\n",
    "    \n",
    "    endtime = datetime.datetime.now()\n",
    "    elapsed = endtime-starttime\n",
    "    \n",
    "    print('Values replaced: {} seconds elapsed'.format(elapsed.seconds))\n",
    "    \n",
    "    # save rewritten sheets\n",
    "    starttime = datetime.datetime.now()\n",
    "    \n",
    "    writer = pd.ExcelWriter(file)\n",
    "    \n",
    "    df0.to_excel(writer,sheetlist[0],header=False,index=False)\n",
    "    df1.to_excel(writer,sheetlist[1],header=False,index=False)\n",
    "    df2.to_excel(writer,sheetlist[2],header=False,index=False)\n",
    "    df3.to_excel(writer,sheetlist[3],header=False,index=False)\n",
    "    \n",
    "    writer.save()\n",
    "    \n",
    "    endtime = datetime.datetime.now()\n",
    "    elapsed = endtime-starttime\n",
    "    \n",
    "    print('Sheets written: {} seconds elapsed'.format(elapsed.seconds))"
   ]
  },
  {
   "cell_type": "code",
   "execution_count": null,
   "metadata": {
    "collapsed": true
   },
   "outputs": [],
   "source": []
  }
 ],
 "metadata": {
  "kernelspec": {
   "display_name": "Python 3",
   "language": "python",
   "name": "python3"
  },
  "language_info": {
   "codemirror_mode": {
    "name": "ipython",
    "version": 3
   },
   "file_extension": ".py",
   "mimetype": "text/x-python",
   "name": "python",
   "nbconvert_exporter": "python",
   "pygments_lexer": "ipython3",
   "version": "3.6.3"
  }
 },
 "nbformat": 4,
 "nbformat_minor": 2
}
