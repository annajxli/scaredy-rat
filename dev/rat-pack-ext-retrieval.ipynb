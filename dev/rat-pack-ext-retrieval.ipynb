{
 "cells": [
  {
   "cell_type": "markdown",
   "metadata": {},
   "source": [
    "# rat-pack concatenates csv outputs from scaredy-rat"
   ]
  },
  {
   "cell_type": "code",
   "execution_count": 1,
   "metadata": {
    "collapsed": true
   },
   "outputs": [],
   "source": [
    "%matplotlib inline\n",
    "%reload_ext autoreload\n",
    "%autoreload 2\n",
    "\n",
    "import numpy as np\n",
    "import pandas as pd\n",
    "import os, sys\n",
    "\n",
    "sys.path.append('../src')\n",
    "import scaredyrattools as sr"
   ]
  },
  {
   "cell_type": "markdown",
   "metadata": {},
   "source": [
    "# Change variables in this cell only"
   ]
  },
  {
   "cell_type": "code",
   "execution_count": 2,
   "metadata": {
    "collapsed": true
   },
   "outputs": [],
   "source": [
    "## This is the folder with all of the csvs\n",
    "inpath = '/Users/liannj/Documents/Anna/eCBData/OutputWeek1'\n",
    "## Wherever you want the output\n",
    "outpath = '/Users/liannj/Documents/Anna/eCBData/OutputWeek1/Compressed'"
   ]
  },
  {
   "cell_type": "markdown",
   "metadata": {},
   "source": [
    "## Function calls below"
   ]
  },
  {
   "cell_type": "code",
   "execution_count": 30,
   "metadata": {
    "collapsed": true
   },
   "outputs": [],
   "source": [
    "meancsv,SEMcsv,medcsv = sr.scaredy_read_ext_ret(inpath)"
   ]
  },
  {
   "cell_type": "code",
   "execution_count": 31,
   "metadata": {},
   "outputs": [],
   "source": [
    "means = sr.compress_ext_ret_data(meancsv,0)\n",
    "SEMs = sr.compress_ext_ret_data(SEMcsv,0)\n",
    "meds = sr.compress_ext_ret_data(medcsv,0)\n",
    "\n",
    "allData = sr.concat_FC_data(means,SEMs,meds,5)\n",
    "outfile = os.path.join(outpath,'All-ext-ret-tone-data.csv')\n",
    "allData.to_csv(outfile)"
   ]
  },
  {
   "cell_type": "code",
   "execution_count": 37,
   "metadata": {},
   "outputs": [],
   "source": [
    "means = sr.compress_ext_ret_data(meancsv,1)\n",
    "SEMs = sr.compress_ext_ret_data(SEMcsv,1)\n",
    "meds = sr.compress_ext_ret_data(medcsv,1)\n",
    "\n",
    "allData = sr.concat_FC_data(means,SEMs, meds, 5)\n",
    "outfile = os.path.join(outpath,'All-ext-ret-pretone-data.csv')\n",
    "allData.to_csv(outfile)"
   ]
  },
  {
   "cell_type": "code",
   "execution_count": 38,
   "metadata": {},
   "outputs": [],
   "source": [
    "means = sr.compress_ext_ret_data(meancsv,2)\n",
    "SEMs = sr.compress_ext_ret_data(SEMcsv,2)\n",
    "meds = sr.compress_ext_ret_data(medcsv,2)\n",
    "\n",
    "allData = sr.concat_FC_data(means,SEMs, meds, 5)\n",
    "outfile = os.path.join(outpath,'All-ext-ret-shock-data.csv')\n",
    "allData.to_csv(outfile)"
   ]
  },
  {
   "cell_type": "code",
   "execution_count": 39,
   "metadata": {
    "collapsed": true
   },
   "outputs": [],
   "source": [
    "means = sr.compress_ext_ret_data(meancsv,3)\n",
    "SEMs = sr.compress_ext_ret_data(SEMcsv,3)\n",
    "meds = sr.compress_ext_ret_data(medcsv,3)\n",
    "\n",
    "allData = sr.concat_FC_data(means,SEMs, meds, 5)\n",
    "outfile = os.path.join(outpath,'All-ext-ret-postshock-data.csv')\n",
    "allData.to_csv(outfile)"
   ]
  },
  {
   "cell_type": "code",
   "execution_count": null,
   "metadata": {
    "collapsed": true
   },
   "outputs": [],
   "source": []
  }
 ],
 "metadata": {
  "kernelspec": {
   "display_name": "Python 3",
   "language": "python",
   "name": "python3"
  },
  "language_info": {
   "codemirror_mode": {
    "name": "ipython",
    "version": 3
   },
   "file_extension": ".py",
   "mimetype": "text/x-python",
   "name": "python",
   "nbconvert_exporter": "python",
   "pygments_lexer": "ipython3",
   "version": "3.6.3"
  }
 },
 "nbformat": 4,
 "nbformat_minor": 2
}
