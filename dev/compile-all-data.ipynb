{
 "cells": [
  {
   "cell_type": "code",
   "execution_count": 3,
   "metadata": {
    "collapsed": true
   },
   "outputs": [],
   "source": [
    "%matplotlib inline\n",
    "%reload_ext autoreload\n",
    "%autoreload 2\n",
    "\n",
    "import numpy as np\n",
    "import pandas as pd\n",
    "import os, sys\n",
    "\n",
    "sys.path.append('../src')\n",
    "import scaredyrattools as sr"
   ]
  },
  {
   "cell_type": "code",
   "execution_count": 4,
   "metadata": {
    "collapsed": true
   },
   "outputs": [],
   "source": [
    "## This is the folder with all of the csvs\n",
    "inpath = '/Users/liannj/Documents/Anna/eCBData'\n",
    "\n",
    "## Wherever you want the output\n",
    "outpath = '/Users/liannj/Documents/Anna/eCBData'"
   ]
  },
  {
   "cell_type": "code",
   "execution_count": 3,
   "metadata": {
    "collapsed": true
   },
   "outputs": [],
   "source": [
    "## RUN THIS CELL TO COMPILE ALL HABITUATION A FREEZING\n",
    "\n",
    "freezingCSVs = sr.scaredy_read_freezing(inpath,'habituation-freezing-A')\n",
    "\n",
    "allFreezing = sr.concat_all_habituation_freezing(freezingCSVs, 0)\n",
    "\n",
    "outfile = os.path.join(outpath, 'eCB-All-Habituation-A-Freezing.csv')\n",
    "allFreezing.to_csv(outfile)"
   ]
  },
  {
   "cell_type": "code",
   "execution_count": 4,
   "metadata": {
    "collapsed": true
   },
   "outputs": [],
   "source": [
    "## RUN THIS CELL TO COMPILE ALL HABITUATION B FREEZING\n",
    "\n",
    "freezingCSVs = sr.scaredy_read_freezing(inpath,'habituation-freezing-B')\n",
    "\n",
    "allFreezing = sr.concat_all_habituation_freezing(freezingCSVs, 0)\n",
    "\n",
    "outfile = os.path.join(outpath, 'eCB-All-Habituation-B-Freezing.csv')\n",
    "allFreezing.to_csv(outfile)"
   ]
  },
  {
   "cell_type": "code",
   "execution_count": 5,
   "metadata": {
    "collapsed": true
   },
   "outputs": [],
   "source": [
    "## RUN THIS CELL TO COMPILE ALL FC FREEZING\n",
    "\n",
    "freezingCSVs = sr.scaredy_read_freezing(inpath,'FC-freezing')\n",
    "\n",
    "toneFreezing = sr.concat_all_FC_freezing(freezingCSVs, 0)\n",
    "pretoneFreezing = sr.concat_all_FC_freezing(freezingCSVs, 1)\n",
    "shockFreezing = sr.concat_all_FC_freezing(freezingCSVs, 2)\n",
    "postshockFreezing = sr.concat_all_FC_freezing(freezingCSVs, 3)\n",
    "\n",
    "outfile = os.path.join(outpath, 'eCB-All-Tone-Freezing.csv')\n",
    "toneFreezing.to_csv(outfile)\n",
    "\n",
    "outfile = os.path.join(outpath, 'eCB-All-Pretone-Freezing.csv')\n",
    "pretoneFreezing.to_csv(outfile)\n",
    "\n",
    "outfile = os.path.join(outpath, 'eCB-All-Shock-Freezing.csv')\n",
    "shockFreezing.to_csv(outfile)\n",
    "\n",
    "outfile = os.path.join(outpath, 'eCB-All-Postshock-Freezing.csv')\n",
    "postshockFreezing.to_csv(outfile)"
   ]
  },
  {
   "cell_type": "code",
   "execution_count": 6,
   "metadata": {
    "collapsed": true
   },
   "outputs": [],
   "source": [
    "## RUN THIS CELL TO COMPILE ALL EXTINCTION FREEZING\n",
    "\n",
    "freezingCSVs = sr.scaredy_read_freezing(inpath,'ext-freezing')\n",
    "\n",
    "toneFreezing = sr.concat_all_FC_freezing(freezingCSVs, 0)\n",
    "pretoneFreezing = sr.concat_all_FC_freezing(freezingCSVs, 1)\n",
    "shockFreezing = sr.concat_all_FC_freezing(freezingCSVs, 2)\n",
    "postshockFreezing = sr.concat_all_FC_freezing(freezingCSVs, 3)\n",
    "\n",
    "outfile = os.path.join(outpath, 'eCB-All-Ext-Tone-Freezing.csv')\n",
    "toneFreezing.to_csv(outfile)\n",
    "\n",
    "outfile = os.path.join(outpath, 'eCB-All-Ext-Pretone-Freezing.csv')\n",
    "pretoneFreezing.to_csv(outfile)\n",
    "\n",
    "outfile = os.path.join(outpath, 'eCB-All-Ext-Shock-Freezing.csv')\n",
    "shockFreezing.to_csv(outfile)\n",
    "\n",
    "outfile = os.path.join(outpath, 'eCB-All-Ext-Postshock-Freezing.csv')\n",
    "postshockFreezing.to_csv(outfile)"
   ]
  },
  {
   "cell_type": "code",
   "execution_count": 8,
   "metadata": {
    "collapsed": true
   },
   "outputs": [],
   "source": [
    "## RUN THIS CELL TO COMPILE ALL EXTINCTION RETRIEVAL FREEZING\n",
    "\n",
    "freezingCSVs = sr.scaredy_read_freezing(inpath,'extRet-freezing')\n",
    "\n",
    "toneFreezing = sr.concat_all_FC_freezing(freezingCSVs, 0)\n",
    "pretoneFreezing = sr.concat_all_FC_freezing(freezingCSVs, 1)\n",
    "shockFreezing = sr.concat_all_FC_freezing(freezingCSVs, 2)\n",
    "postshockFreezing = sr.concat_all_FC_freezing(freezingCSVs, 3)\n",
    "\n",
    "outfile = os.path.join(outpath, 'eCB-All-ExtRet-Tone-Freezing.csv')\n",
    "toneFreezing.to_csv(outfile)\n",
    "\n",
    "outfile = os.path.join(outpath, 'eCB-All-ExtRet-Pretone-Freezing.csv')\n",
    "pretoneFreezing.to_csv(outfile)\n",
    "\n",
    "outfile = os.path.join(outpath, 'eCB-All-ExtRet-Shock-Freezing.csv')\n",
    "shockFreezing.to_csv(outfile)\n",
    "\n",
    "outfile = os.path.join(outpath, 'eCB-All-ExtRet-Postshock-Freezing.csv')\n",
    "postshockFreezing.to_csv(outfile)"
   ]
  },
  {
   "cell_type": "code",
   "execution_count": 7,
   "metadata": {
    "collapsed": true
   },
   "outputs": [],
   "source": [
    "## RUN THIS CELL TO COMPILE ALL FC DARTING\n",
    "\n",
    "dartingCSVs = sr.scaredy_read_freezing(inpath,'FC-darting')\n",
    "\n",
    "toneDarting = sr.concat_all_FC_darting(dartingCSVs, 0)\n",
    "pretoneDarting = sr.concat_all_FC_darting(dartingCSVs, 1)\n",
    "shockDarting = sr.concat_all_FC_darting(dartingCSVs, 2)\n",
    "postshockDarting = sr.concat_all_FC_darting(dartingCSVs, 3)\n",
    "\n",
    "outfile = os.path.join(outpath, 'eCB-All-Tone-Darting.csv')\n",
    "toneDarting.to_csv(outfile)\n",
    "\n",
    "outfile = os.path.join(outpath, 'eCB-All-Pretone-Darting.csv')\n",
    "pretoneDarting.to_csv(outfile)\n",
    "\n",
    "outfile = os.path.join(outpath, 'eCB-All-Shock-Darting.csv')\n",
    "shockDarting.to_csv(outfile)\n",
    "\n",
    "outfile = os.path.join(outpath, 'eCB-All-Postshock-Darting.csv')\n",
    "postshockDarting.to_csv(outfile)"
   ]
  },
  {
   "cell_type": "code",
   "execution_count": null,
   "metadata": {
    "collapsed": true
   },
   "outputs": [],
   "source": [
    "## RUN THIS CELL TO COMPILE ALL HABITUATION A LOCOMOTOR DATA\n"
   ]
  },
  {
   "cell_type": "code",
   "execution_count": null,
   "metadata": {
    "collapsed": true
   },
   "outputs": [],
   "source": [
    "## RUN THIS CELL TO COMPILE ALL HABITUATION B LOCOMOTOR DATA\n"
   ]
  },
  {
   "cell_type": "code",
   "execution_count": null,
   "metadata": {
    "collapsed": true
   },
   "outputs": [],
   "source": [
    "## RUN THIS CELL TO COMPILE ALL FC LOCOMOTOR DATA\n"
   ]
  },
  {
   "cell_type": "code",
   "execution_count": 67,
   "metadata": {
    "collapsed": true
   },
   "outputs": [],
   "source": [
    "## RUN THIS CELL TO COMPILE FC MAX DATA\n",
    "\n",
    "maxCSVs = sr.scaredy_read_FC_max(inpath,'FC-shock-max')\n",
    "maxes = sr.concat_all_FC_max(maxCSVs)\n",
    "\n",
    "outfile = os.path.join(outpath, 'eCB-All-Shock-MaxVels.csv')\n",
    "maxes.to_csv(outfile)"
   ]
  },
  {
   "cell_type": "code",
   "execution_count": null,
   "metadata": {
    "collapsed": true
   },
   "outputs": [],
   "source": [
    "## RUN THIS CELL TO COMPILE ALL EXT LOCOMOTOR DATA\n"
   ]
  },
  {
   "cell_type": "code",
   "execution_count": null,
   "metadata": {
    "collapsed": true
   },
   "outputs": [],
   "source": [
    "## RUN THIS CELL TO COMPILE ALL EXT RETRIEVAL LOCOMOTOR DATA\n"
   ]
  }
 ],
 "metadata": {
  "kernelspec": {
   "display_name": "Python 3",
   "language": "python",
   "name": "python3"
  },
  "language_info": {
   "codemirror_mode": {
    "name": "ipython",
    "version": 3
   },
   "file_extension": ".py",
   "mimetype": "text/x-python",
   "name": "python",
   "nbconvert_exporter": "python",
   "pygments_lexer": "ipython3",
   "version": "3.6.3"
  }
 },
 "nbformat": 4,
 "nbformat_minor": 2
}
