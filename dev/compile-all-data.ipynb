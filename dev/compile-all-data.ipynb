{
 "cells": [
  {
   "cell_type": "code",
   "execution_count": null,
   "metadata": {
    "collapsed": true
   },
   "outputs": [],
   "source": [
    "%matplotlib inline\n",
    "%reload_ext autoreload\n",
    "%autoreload 2\n",
    "\n",
    "import numpy as np\n",
    "import pandas as pd\n",
    "import os, sys\n",
    "\n",
    "sys.path.append('../src')\n",
    "import scaredyrattools as sr"
   ]
  },
  {
   "cell_type": "code",
   "execution_count": null,
   "metadata": {
    "collapsed": true
   },
   "outputs": [],
   "source": [
    "## This is the folder with all of the csvs\n",
    "inpath = '/Users/liannj/Documents/Anna/eCBData'\n",
    "\n",
    "## Wherever you want the output\n",
    "outpath = '/Users/liannj/Documents/Anna/eCBData'\n",
    "\n",
    "nFCtones = 7\n",
    "nExtTones = 20\n",
    "nExtRTones = 5"
   ]
  },
  {
   "cell_type": "code",
   "execution_count": null,
   "metadata": {
    "collapsed": true
   },
   "outputs": [],
   "source": [
    "## RUN THIS CELL TO COMPILE ALL HABITUATION A FREEZING\n",
    "\n",
    "freezingCSVs = sr.scaredy_find_csvs(inpath,'habituation-freezing-A')\n",
    "\n",
    "allFreezing = sr.concat_all_habituation_freezing(freezingCSVs, 0)\n",
    "\n",
    "outfile = os.path.join(outpath, 'eCB-All-Habituation-A-Freezing.csv')\n",
    "allFreezing.to_csv(outfile)"
   ]
  },
  {
   "cell_type": "code",
   "execution_count": null,
   "metadata": {
    "collapsed": true
   },
   "outputs": [],
   "source": [
    "## RUN THIS CELL TO COMPILE ALL HABITUATION B FREEZING\n",
    "\n",
    "freezingCSVs = sr.scaredy_find_csvs(inpath,'habituation-freezing-B')\n",
    "\n",
    "allFreezing = sr.concat_all_habituation_freezing(freezingCSVs, 0)\n",
    "\n",
    "outfile = os.path.join(outpath, 'eCB-All-Habituation-B-Freezing.csv')\n",
    "allFreezing.to_csv(outfile)"
   ]
  },
  {
   "cell_type": "code",
   "execution_count": null,
   "metadata": {
    "collapsed": true
   },
   "outputs": [],
   "source": [
    "## RUN THIS CELL TO COMPILE ALL FC FREEZING\n",
    "\n",
    "freezingCSVs = sr.scaredy_find_csvs(inpath,'FC-freezing')\n",
    "\n",
    "toneFreezing = sr.concat_all_FC_freezing(freezingCSVs, 0)\n",
    "pretoneFreezing = sr.concat_all_FC_freezing(freezingCSVs, 1)\n",
    "shockFreezing = sr.concat_all_FC_freezing(freezingCSVs, 2)\n",
    "postshockFreezing = sr.concat_all_FC_freezing(freezingCSVs, 3)\n",
    "\n",
    "outfile = os.path.join(outpath, 'eCB-All-Tone-Freezing.csv')\n",
    "toneFreezing.to_csv(outfile)\n",
    "\n",
    "outfile = os.path.join(outpath, 'eCB-All-Pretone-Freezing.csv')\n",
    "pretoneFreezing.to_csv(outfile)\n",
    "\n",
    "outfile = os.path.join(outpath, 'eCB-All-Shock-Freezing.csv')\n",
    "shockFreezing.to_csv(outfile)\n",
    "\n",
    "outfile = os.path.join(outpath, 'eCB-All-Postshock-Freezing.csv')\n",
    "postshockFreezing.to_csv(outfile)"
   ]
  },
  {
   "cell_type": "code",
   "execution_count": null,
   "metadata": {
    "collapsed": true
   },
   "outputs": [],
   "source": [
    "## RUN THIS CELL TO COMPILE ALL EXTINCTION FREEZING\n",
    "\n",
    "freezingCSVs = sr.scaredy_find_csvs(inpath,'ext-freezing')\n",
    "\n",
    "toneFreezing = sr.concat_all_FC_freezing(freezingCSVs, 0)\n",
    "pretoneFreezing = sr.concat_all_FC_freezing(freezingCSVs, 1)\n",
    "shockFreezing = sr.concat_all_FC_freezing(freezingCSVs, 2)\n",
    "postshockFreezing = sr.concat_all_FC_freezing(freezingCSVs, 3)\n",
    "\n",
    "outfile = os.path.join(outpath, 'eCB-All-Ext-Tone-Freezing.csv')\n",
    "toneFreezing.to_csv(outfile)\n",
    "\n",
    "outfile = os.path.join(outpath, 'eCB-All-Ext-Pretone-Freezing.csv')\n",
    "pretoneFreezing.to_csv(outfile)\n",
    "\n",
    "outfile = os.path.join(outpath, 'eCB-All-Ext-Shock-Freezing.csv')\n",
    "shockFreezing.to_csv(outfile)\n",
    "\n",
    "outfile = os.path.join(outpath, 'eCB-All-Ext-Postshock-Freezing.csv')\n",
    "postshockFreezing.to_csv(outfile)"
   ]
  },
  {
   "cell_type": "code",
   "execution_count": null,
   "metadata": {
    "collapsed": true
   },
   "outputs": [],
   "source": [
    "## RUN THIS CELL TO COMPILE ALL EXTINCTION RETRIEVAL FREEZING\n",
    "\n",
    "freezingCSVs = sr.scaredy_find_csvs(inpath,'extRet-freezing')\n",
    "\n",
    "toneFreezing = sr.concat_all_FC_freezing(freezingCSVs, 0)\n",
    "pretoneFreezing = sr.concat_all_FC_freezing(freezingCSVs, 1)\n",
    "shockFreezing = sr.concat_all_FC_freezing(freezingCSVs, 2)\n",
    "postshockFreezing = sr.concat_all_FC_freezing(freezingCSVs, 3)\n",
    "\n",
    "outfile = os.path.join(outpath, 'eCB-All-ExtRet-Tone-Freezing.csv')\n",
    "toneFreezing.to_csv(outfile)\n",
    "\n",
    "outfile = os.path.join(outpath, 'eCB-All-ExtRet-Pretone-Freezing.csv')\n",
    "pretoneFreezing.to_csv(outfile)\n",
    "\n",
    "outfile = os.path.join(outpath, 'eCB-All-ExtRet-Shock-Freezing.csv')\n",
    "shockFreezing.to_csv(outfile)\n",
    "\n",
    "outfile = os.path.join(outpath, 'eCB-All-ExtRet-Postshock-Freezing.csv')\n",
    "postshockFreezing.to_csv(outfile)"
   ]
  },
  {
   "cell_type": "code",
   "execution_count": null,
   "metadata": {
    "collapsed": true
   },
   "outputs": [],
   "source": [
    "## RUN THIS CELL TO COMPILE ALL FC DARTING\n",
    "\n",
    "dartingCSVs = sr.scaredy_find_csvs(inpath,'FC-darting')\n",
    "\n",
    "toneDarting = sr.concat_all_FC_darting(dartingCSVs, 0)\n",
    "pretoneDarting = sr.concat_all_FC_darting(dartingCSVs, 1)\n",
    "shockDarting = sr.concat_all_FC_darting(dartingCSVs, 2)\n",
    "postshockDarting = sr.concat_all_FC_darting(dartingCSVs, 3)\n",
    "\n",
    "outfile = os.path.join(outpath, 'eCB-All-Tone-Darting.csv')\n",
    "toneDarting.to_csv(outfile)\n",
    "\n",
    "outfile = os.path.join(outpath, 'eCB-All-Pretone-Darting.csv')\n",
    "pretoneDarting.to_csv(outfile)\n",
    "\n",
    "outfile = os.path.join(outpath, 'eCB-All-Shock-Darting.csv')\n",
    "shockDarting.to_csv(outfile)\n",
    "\n",
    "outfile = os.path.join(outpath, 'eCB-All-Postshock-Darting.csv')\n",
    "postshockDarting.to_csv(outfile)"
   ]
  },
  {
   "cell_type": "code",
   "execution_count": null,
   "metadata": {
    "collapsed": true
   },
   "outputs": [],
   "source": [
    "## RUN THIS CELL TO COMPILE ALL HABITUATION A LOCOMOTOR DATA\n"
   ]
  },
  {
   "cell_type": "code",
   "execution_count": null,
   "metadata": {
    "collapsed": true
   },
   "outputs": [],
   "source": [
    "## RUN THIS CELL TO COMPILE ALL HABITUATION B LOCOMOTOR DATA\n"
   ]
  },
  {
   "cell_type": "code",
   "execution_count": null,
   "metadata": {
    "collapsed": true
   },
   "outputs": [],
   "source": [
    "## RUN THIS CELL TO COMPILE ALL FC LOCOMOTOR DATA\n",
    "\n",
    "meancsvs = sr.scaredy_find_csvs(inpath,'FC-mean')\n",
    "medcsvs = sr.scaredy_find_csvs(inpath,'FC-med')\n",
    "SEMcsvs = sr.scaredy_find_csvs(inpath,'FC-SEM')\n",
    "\n",
    "means = sr.compress_data(meancsvs,0)\n",
    "meds = sr.compress_data(medcsvs,0)\n",
    "SEMs = sr.compress_data(SEMcsvs,0)\n",
    "\n",
    "allData = sr.concat_data(means,SEMs,meds,nFCtones)\n",
    "outfile = os.path.join(outpath,'All-FC-tone-data.csv')\n",
    "allData.to_csv(outfile)\n",
    "\n",
    "means = sr.compress_data(meancsvs,1)\n",
    "SEMs = sr.compress_data(SEMcsvs,1)\n",
    "meds = sr.compress_data(medcsvs,1)\n",
    "\n",
    "allData = sr.concat_data(means,SEMs,meds,nFCtones)\n",
    "outfile = os.path.join(outpath,'All-FC-pretone-data.csv')\n",
    "allData.to_csv(outfile)\n",
    "\n",
    "means = sr.compress_data(meancsvs,2)\n",
    "SEMs = sr.compress_data(SEMcsvs,2)\n",
    "meds = sr.compress_data(medcsvs,2)\n",
    "\n",
    "allData = sr.concat_data(means,SEMs,meds,nFCtones)\n",
    "outfile = os.path.join(outpath,'All-FC-shock-data.csv')\n",
    "allData.to_csv(outfile)\n",
    "\n",
    "means = sr.compress_data(meancsvs,3)\n",
    "SEMs = sr.compress_data(SEMcsvs,3)\n",
    "meds = sr.compress_data(medcsvs,3)\n",
    "\n",
    "allData = sr.concat_data(means,SEMs,meds,nFCtones)\n",
    "outfile = os.path.join(outpath,'All-FC-postshock-data.csv')\n",
    "allData.to_csv(outfile)"
   ]
  },
  {
   "cell_type": "code",
   "execution_count": null,
   "metadata": {
    "collapsed": true
   },
   "outputs": [],
   "source": [
    "## RUN THIS CELL TO COMPILE FC MAX DATA\n",
    "maxCSVs = sr.scaredy_find_csvs(inpath,'FC-shock-max')\n",
    "\n",
    "maxes = sr.concat_all_FC_max(maxCSVs)\n",
    "outfile = os.path.join(outpath, 'All-FC-shock-maxVels.csv')\n",
    "maxes.to_csv(outfile)\n",
    "\n",
    "maxCSVs = sr.scaredy_find_csvs(inpath,'FC-tone-max')\n",
    "\n",
    "maxes = sr.concat_all_FC_max(maxCSVs)\n",
    "outfile = os.path.join(outpath, 'All-FC-tone-maxVels.csv')\n",
    "maxes.to_csv(outfile)\n",
    "\n",
    "maxCSVs = sr.scaredy_find_csvs(inpath,'FC-pretone-max')\n",
    "\n",
    "maxes = sr.concat_all_FC_max(maxCSVs)\n",
    "outfile = os.path.join(outpath, 'All-FC-pretone-maxVels.csv')\n",
    "maxes.to_csv(outfile)\n",
    "\n",
    "maxCSVs = sr.scaredy_find_csvs(inpath,'FC-postshock-max')\n",
    "\n",
    "maxes = sr.concat_all_FC_max(maxCSVs)\n",
    "outfile = os.path.join(outpath, 'All-FC-postshock-maxVels.csv')\n",
    "maxes.to_csv(outfile)"
   ]
  },
  {
   "cell_type": "code",
   "execution_count": null,
   "metadata": {},
   "outputs": [],
   "source": [
    "## RUN THIS CELL TO COMPILE ALL EXT LOCOMOTOR DATA\n",
    "meancsvs = sr.scaredy_find_csvs(inpath,'ext-mean')\n",
    "medcsvs = sr.scaredy_find_csvs(inpath,'ext-med')\n",
    "SEMcsvs = sr.scaredy_find_csvs(inpath,'ext-SEM')\n",
    "\n",
    "means = sr.compress_data(meancsvs,0)\n",
    "SEMs = sr.compress_data(SEMcsvs,0)\n",
    "meds = sr.compress_data(medcsvs,0)\n",
    "\n",
    "allData = sr.concat_data(means,SEMs,meds,nExtTones)\n",
    "outfile = os.path.join(outpath,'All-ext-tone-data.csv')\n",
    "allData.to_csv(outfile)\n",
    "\n",
    "means = sr.compress_data(meancsvs,1)\n",
    "SEMs = sr.compress_data(SEMcsvs,1)\n",
    "meds = sr.compress_data(medcsvs,1)\n",
    "\n",
    "allData = sr.concat_data(means,SEMs, meds, nExtTones)\n",
    "outfile = os.path.join(outpath,'All-ext-pretone-data.csv')\n",
    "allData.to_csv(outfile)\n",
    "\n",
    "means = sr.compress_data(meancsvs,2)\n",
    "SEMs = sr.compress_data(SEMcsvs,2)\n",
    "meds = sr.compress_data(medcsvs,2)\n",
    "\n",
    "allData = sr.concat_data(means,SEMs, meds, nExtTones)\n",
    "outfile = os.path.join(outpath,'All-ext-shock-data.csv')\n",
    "allData.to_csv(outfile)\n",
    "\n",
    "means = sr.compress_data(meancsvs,3)\n",
    "SEMs = sr.compress_data(SEMcsvs,3)\n",
    "meds = sr.compress_data(medcsvs,3)\n",
    "\n",
    "allData = sr.concat_data(means,SEMs, meds, nExtTones)\n",
    "outfile = os.path.join(outpath,'All-ext-postshock-data.csv')\n",
    "allData.to_csv(outfile)"
   ]
  },
  {
   "cell_type": "code",
   "execution_count": null,
   "metadata": {
    "collapsed": true
   },
   "outputs": [],
   "source": [
    "## RUN THIS CELL TO COMPILE ALL EXT DARTING\n",
    "\n",
    "dartingCSVs = sr.scaredy_find_csvs(inpath,'ext-darting')\n",
    "\n",
    "toneDarting = sr.concat_all_FC_darting(dartingCSVs, 0)\n",
    "pretoneDarting = sr.concat_all_FC_darting(dartingCSVs, 1)\n",
    "shockDarting = sr.concat_all_FC_darting(dartingCSVs, 2)\n",
    "postshockDarting = sr.concat_all_FC_darting(dartingCSVs, 3)\n",
    "\n",
    "outfile = os.path.join(outpath, 'eCB-All-Ext-Tone-Darting.csv')\n",
    "toneDarting.to_csv(outfile)\n",
    "\n",
    "outfile = os.path.join(outpath, 'eCB-All-Ext-Pretone-Darting.csv')\n",
    "pretoneDarting.to_csv(outfile)\n",
    "\n",
    "outfile = os.path.join(outpath, 'eCB-All-Ext-Shock-Darting.csv')\n",
    "shockDarting.to_csv(outfile)\n",
    "\n",
    "outfile = os.path.join(outpath, 'eCB-All-Ext-Postshock-Darting.csv')\n",
    "postshockDarting.to_csv(outfile)"
   ]
  },
  {
   "cell_type": "code",
   "execution_count": null,
   "metadata": {},
   "outputs": [],
   "source": [
    "## RUN THIS CELL TO COMPILE ALL EXT RETRIEVAL LOCOMOTOR DATA\n",
    "\n",
    "meancsvs = sr.scaredy_find_csvs(inpath,'extRet-mean')\n",
    "medcsvs = sr.scaredy_find_csvs(inpath,'extRet-med')\n",
    "SEMcsvs = sr.scaredy_find_csvs(inpath,'extRet-SEM')\n",
    "\n",
    "means = sr.compress_data(meancsvs,0)\n",
    "SEMs = sr.compress_data(SEMcsvs,0)\n",
    "meds = sr.compress_data(medcsvs,0)\n",
    "\n",
    "allData = sr.concat_data(means,SEMs,meds,nExtRTones)\n",
    "outfile = os.path.join(outpath,'All-extR-tone-data.csv')\n",
    "allData.to_csv(outfile)\n",
    "\n",
    "means = sr.compress_data(meancsvs,1)\n",
    "SEMs = sr.compress_data(SEMcsvs,1)\n",
    "meds = sr.compress_data(medcsvs,1)\n",
    "\n",
    "allData = sr.concat_data(means,SEMs, meds, nExtRTones)\n",
    "outfile = os.path.join(outpath,'All-extR-pretone-data.csv')\n",
    "allData.to_csv(outfile)\n",
    "\n",
    "means = sr.compress_data(meancsvs,2)\n",
    "SEMs = sr.compress_data(SEMcsvs,2)\n",
    "meds = sr.compress_data(medcsvs,2)\n",
    "\n",
    "allData = sr.concat_data(means,SEMs, meds, nExtRTones)\n",
    "outfile = os.path.join(outpath,'All-extR-shock-data.csv')\n",
    "allData.to_csv(outfile)\n",
    "\n",
    "means = sr.compress_data(meancsvs,3)\n",
    "SEMs = sr.compress_data(SEMcsvs,3)\n",
    "meds = sr.compress_data(medcsvs,3)\n",
    "\n",
    "allData = sr.concat_data(means,SEMs, meds, nExtRTones)\n",
    "outfile = os.path.join(outpath,'All-extR-postshock-data.csv')\n",
    "allData.to_csv(outfile)"
   ]
  }
 ],
 "metadata": {
  "kernelspec": {
   "display_name": "Python 3",
   "language": "python",
   "name": "python3"
  },
  "language_info": {
   "codemirror_mode": {
    "name": "ipython",
    "version": 3
   },
   "file_extension": ".py",
   "mimetype": "text/x-python",
   "name": "python",
   "nbconvert_exporter": "python",
   "pygments_lexer": "ipython3",
   "version": "3.6.3"
  }
 },
 "nbformat": 4,
 "nbformat_minor": 2
}
