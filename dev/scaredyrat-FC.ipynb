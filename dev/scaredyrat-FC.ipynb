{
 "cells": [
  {
   "cell_type": "markdown",
   "metadata": {},
   "source": [
    "# scaredyrat-FC analyzes data from fear conditioning protocol"
   ]
  },
  {
   "cell_type": "code",
   "execution_count": null,
   "metadata": {
    "collapsed": true
   },
   "outputs": [],
   "source": [
    "# notebook formatting and loading settings, imports - keep same\n",
    "\n",
    "%matplotlib inline\n",
    "%reload_ext autoreload\n",
    "%autoreload 2\n",
    "\n",
    "import numpy as np\n",
    "import pandas as pd\n",
    "import matplotlib.pyplot as plt\n",
    "import seaborn as sns\n",
    "import math\n",
    "import os, sys\n",
    "\n",
    "sys.path.append('../src')\n",
    "import scaredyrattools as sr"
   ]
  },
  {
   "cell_type": "markdown",
   "metadata": {},
   "source": [
    "# Change variables in this cell:"
   ]
  },
  {
   "cell_type": "code",
   "execution_count": null,
   "metadata": {
    "collapsed": true
   },
   "outputs": [],
   "source": [
    "inpath = '/Users/liannj/Documents/Anna/eCBData/Week10/2FC'\n",
    "\n",
    "outpath = '/Users/liannj/Documents/Anna/eCBData/OutputWeek10'\n",
    "\n",
    "ntones = 7\n",
    "\n",
    "filelist = ['Raw data-eCB Fear Conditioning Spring 2018-Trial   156.xlsx',\n",
    "           'Raw data-eCB Fear Conditioning Spring 2018-Trial   157.xlsx',\n",
    "           'Raw data-eCB Fear Conditioning Spring 2018-Trial   158.xlsx']"
   ]
  },
  {
   "cell_type": "code",
   "execution_count": null,
   "metadata": {
    "collapsed": true
   },
   "outputs": [],
   "source": [
    "## don't need to change this - stays constant across files\n",
    "sheetlist = ['Track-Arena 1-Subject 1', 'Track-Arena 2-Subject 1', \n",
    "             'Track-Arena 3-Subject 1', 'Track-Arena 4-Subject 1']"
   ]
  },
  {
   "cell_type": "markdown",
   "metadata": {},
   "source": [
    "# Function calls below"
   ]
  },
  {
   "cell_type": "code",
   "execution_count": null,
   "metadata": {
    "collapsed": true,
    "scrolled": false
   },
   "outputs": [],
   "source": [
    "for file in filelist:\n",
    "    for sheet in sheetlist:\n",
    "        ## set input/output info\n",
    "        ID,ctx,anim = sr.animal_read(inpath,file,sheet)\n",
    "\n",
    "        ## use scaredyrattools function to find where each epoch is\n",
    "        tones = sr.find_tones(anim, ntones)\n",
    "        pretones = sr.find_pretones(anim, ntones)\n",
    "        shocks = sr.find_shock_responses(anim, ntones)\n",
    "        pshocks = sr.find_postshocks(anim, ntones)\n",
    "\n",
    "        ## use scaredyrattools function to find top n velocities\n",
    "        mtone = sr.get_top_vels(tones,10,ntones)\n",
    "        mptone = sr.get_top_vels(pretones,10,ntones)\n",
    "        mshock = sr.get_top_vels(shocks,5,ntones)\n",
    "        mpshock = sr.get_top_vels(pshocks,10,ntones)\n",
    "\n",
    "        ## define names of CSV files to save to\n",
    "        mToneOutfile = outpath + '/FC-tone-max-vels-{}.csv' \n",
    "        mToneOutfile = mToneOutfile.format(ID)\n",
    "\n",
    "        mPToneOutfile = outpath + '/FC-pretone-max-vels-{}.csv' \n",
    "        mPToneOutfile = mPToneOutfile.format(ID)\n",
    "\n",
    "        mShockOutfile = outpath + '/FC-shock-max-vels-{}.csv' \n",
    "        mShockOutfile = mShockOutfile.format(ID)\n",
    "\n",
    "        mPShockOutfile = outpath + '/FC-postshock-max-vels-{}.csv' \n",
    "        mPShockOutfile = mPShockOutfile.format(ID)\n",
    "\n",
    "        ## send files to previously defined CSVs\n",
    "        mtone.to_csv(mToneOutfile)\n",
    "        mptone.to_csv(mPToneOutfile)\n",
    "        mshock.to_csv(mShockOutfile)\n",
    "        mpshock.to_csv(mPShockOutfile)\n",
    "\n",
    "        ## use scaredyrattools function to find means\n",
    "        tmeans = sr.get_means(tones,'Tone',ntones)\n",
    "        ptmeans = sr.get_means(pretones,'Pre-tone',ntones)\n",
    "        smeans = sr.get_means(shocks,'Shock',ntones)\n",
    "        pshockmeans = sr.get_means(pshocks,'Post-shock',ntones)\n",
    "        allmeans = pd.concat([tmeans, ptmeans, smeans, pshockmeans],axis=1)\n",
    "\n",
    "        ## use scaredyrattools function to find SEMs\n",
    "        tSEMs = sr.get_SEMs(tones,'Tone',ntones)\n",
    "        ptSEMs = sr.get_SEMs(pretones,'Pre-tone',ntones)\n",
    "        sSEMs = sr.get_SEMs(shocks,'Shock',ntones)\n",
    "        pshockSEMs = sr.get_SEMs(pshocks,'Post-shock',ntones)\n",
    "        allSEMs = pd.concat([tSEMs, ptSEMs, sSEMs, pshockSEMs],axis=1)\n",
    "\n",
    "        ## use scaredyrattools function to find medians\n",
    "        tmeds = sr.get_meds(tones,'Tone',ntones)\n",
    "        ptmeds = sr.get_meds(pretones,'Pre-tone',ntones)\n",
    "        smeds = sr.get_meds(shocks,'Shock',ntones)\n",
    "        pshockmeds = sr.get_meds(pshocks,'Post-shock',ntones)\n",
    "        allmeds = pd.concat([tmeds, ptmeds, smeds, pshockmeds],axis=1)\n",
    "\n",
    "        ## sr freezing tools\n",
    "        toneFreezing, FTs = sr.get_freezing(tones,ntones,freezingThreshold=0.1, binSecs=1)\n",
    "        ptFreezing, ptFTs = sr.get_freezing(pretones,ntones,freezingThreshold=0.1, binSecs=1)\n",
    "        shockFreezing, shockFTs = sr.get_freezing(shocks,ntones,freezingThreshold=0.1, binSecs=1)\n",
    "        pshockFreezing, pshockFTs = sr.get_freezing(pshocks,ntones,freezingThreshold=0.1, binSecs=1)\n",
    "\n",
    "        allFreezing = pd.concat([toneFreezing, ptFreezing, shockFreezing, pshockFreezing],axis=1)\n",
    "        \n",
    "        ## sr darting tools\n",
    "        toneDarting, DTs = sr.get_darting(tones,ntones,dartThreshold=20, binSecs=2)\n",
    "        ptDarting, ptDTs = sr.get_darting(pretones,ntones,dartThreshold=20, binSecs=2)\n",
    "        shockDarting, shockDTs = sr.get_darting(shocks,ntones,dartThreshold=20, binSecs=2)\n",
    "        pshockDarting, pshockDTs = sr.get_darting(pshocks,ntones,dartThreshold=20, binSecs=2)\n",
    "\n",
    "        allDarting = pd.concat([toneDarting, ptDarting, shockDarting, pshockDarting],axis=1)\n",
    "        \n",
    "        ## define names of CSV files to save to\n",
    "        meanOutfile = outpath + '/FC-mean-{}.csv' \n",
    "        meanOutfile = meanOutfile.format(ID)\n",
    "\n",
    "        SEMOutfile = outpath + '/FC-SEM-{}.csv' \n",
    "        SEMOutfile = SEMOutfile.format(ID)\n",
    "\n",
    "        medOutfile = outpath + '/FC-med-{}.csv' \n",
    "        medOutfile = medOutfile.format(ID)\n",
    "\n",
    "        freezingOutfile = outpath + '/FC-freezing-{}.csv'\n",
    "        freezingOutfile = freezingOutfile.format(ID)\n",
    "        \n",
    "        dartingOutfile = outpath + '/FC-darting-{}.csv'\n",
    "        dartingOutfile = dartingOutfile.format(ID)\n",
    "\n",
    "        allmeans.to_csv(meanOutfile)\n",
    "        allSEMs.to_csv(SEMOutfile)\n",
    "        allmeds.to_csv(medOutfile)\n",
    "        allFreezing.to_csv(freezingOutfile)\n",
    "        allDarting.to_csv(dartingOutfile)\n",
    "\n",
    "        ## plot stuff\n",
    "        vels = pd.DataFrame(anim['Velocity'])\n",
    "\n",
    "        plt.style.use('seaborn-white')\n",
    "        plt.figure(figsize=(16,8),facecolor='white',edgecolor='white')\n",
    "\n",
    "        # Plots main velocity in black\n",
    "        line1, = plt.plot(vels,color='k',linewidth=0.1,label='ITI')\n",
    "\n",
    "        # Loops through tones, plots each one in cyan\n",
    "        i = 1\n",
    "        while i <= ntones:\n",
    "            tone = sr.find_tone_vels(anim,i)\n",
    "            line2, = plt.plot(tone,color='c',linewidth=0.5,label='Tone')\n",
    "            i += 1\n",
    "\n",
    "        # Loops through shocks, plots each one in magenta\n",
    "        i = 1\n",
    "        while i <= ntones:\n",
    "            sresponse = sr.find_shock_vels(anim,i)\n",
    "            line3, = plt.plot(sresponse,color='m',linewidth=0.5,label='Shock')\n",
    "            i += 1\n",
    "\n",
    "        # Loops through freezing bins, plots each below the x-axis\n",
    "        for timebin in FTs:\n",
    "            plt.plot([timebin[0],timebin[1]],[-0.3,-0.3],color='#ff4f38',linewidth=3)\n",
    "\n",
    "        # Loops through darting bins, plots each below the x-axis\n",
    "        for timebin in DTs:\n",
    "            plt.plot([timebin[0],timebin[1]],[-0.7,-0.7],color='#167512',linewidth=3)\n",
    "            \n",
    "        plt.ylim(-1,35)\n",
    "\n",
    "        sns.despine(left=True, bottom=True, right=True)\n",
    "        plt.title(ID + \" Fear Conditioning\")\n",
    "        plt.legend(handles=[line1,line2,line3])\n",
    "        plt.ylabel('Velocity (cm/s)')\n",
    "        plt.xlabel('Trial time (s)')\n",
    "\n",
    "        ## define where to save the fig\n",
    "        fname = outpath + '/FC-plot-{}'\n",
    "        fname = fname.format(ID)\n",
    "\n",
    "        plt.savefig(fname, dpi=300)\n",
    "\n",
    "        plt.show()\n",
    "        plt.close()"
   ]
  },
  {
   "cell_type": "code",
   "execution_count": null,
   "metadata": {
    "collapsed": true
   },
   "outputs": [],
   "source": []
  }
 ],
 "metadata": {
  "kernelspec": {
   "display_name": "Python 3",
   "language": "python",
   "name": "python3"
  },
  "language_info": {
   "codemirror_mode": {
    "name": "ipython",
    "version": 3
   },
   "file_extension": ".py",
   "mimetype": "text/x-python",
   "name": "python",
   "nbconvert_exporter": "python",
   "pygments_lexer": "ipython3",
   "version": "3.6.3"
  }
 },
 "nbformat": 4,
 "nbformat_minor": 2
}
