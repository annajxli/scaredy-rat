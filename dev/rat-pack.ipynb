{
 "cells": [
  {
   "cell_type": "markdown",
   "metadata": {},
   "source": [
    "# rat-pack concatenates csv outputs from scaredy-rat"
   ]
  },
  {
   "cell_type": "code",
   "execution_count": 1,
   "metadata": {
    "collapsed": true
   },
   "outputs": [],
   "source": [
    "import numpy as np\n",
    "import pandas as pd\n",
    "import os, sys"
   ]
  },
  {
   "cell_type": "code",
   "execution_count": null,
   "metadata": {
    "collapsed": true
   },
   "outputs": [],
   "source": [
    "sys.path.append('../src')\n",
    "import scaredyrat as sr"
   ]
  },
  {
   "cell_type": "markdown",
   "metadata": {},
   "source": [
    "# Change variables in this cell only"
   ]
  },
  {
   "cell_type": "code",
   "execution_count": 5,
   "metadata": {
    "collapsed": true
   },
   "outputs": [],
   "source": [
    "## This is the folder with all of the csvs\n",
    "inpath = r'C:\\Users\\Anna\\Documents\\Shansky Lab\\170802 ethovision analysis\\outputs'\n",
    "## Wherever you want the output\n",
    "outpath = r'C:\\Users\\Anna\\Documents\\Shansky Lab\\170802 ethovision analysis\\outputs\\rat-pack'"
   ]
  },
  {
   "cell_type": "markdown",
   "metadata": {},
   "source": [
    "## Function calls below"
   ]
  },
  {
   "cell_type": "code",
   "execution_count": 6,
   "metadata": {
    "collapsed": true
   },
   "outputs": [],
   "source": [
    "meancsv,medcsv = sr.scaredy_read(inpath)"
   ]
  },
  {
   "cell_type": "code",
   "execution_count": 7,
   "metadata": {
    "collapsed": true
   },
   "outputs": [],
   "source": [
    "means = sr.concat_data(meancsv,0)\n",
    "meds = sr.concat_data(medcsv,0)\n",
    "\n",
    "outfile = os.path.join(outpath,'tone-mean-vels.csv')\n",
    "means.to_csv(outfile)\n",
    "\n",
    "outfile = os.path.join(outpath,'tone-med-vels.csv')\n",
    "meds.to_csv(outfile)"
   ]
  },
  {
   "cell_type": "code",
   "execution_count": 8,
   "metadata": {
    "collapsed": true
   },
   "outputs": [],
   "source": [
    "means = sr.concat_data(meancsv,1)\n",
    "meds = sr.concat_data(medcsv,1)\n",
    "\n",
    "outfile = os.path.join(outpath,'pretone-mean-vels.csv')\n",
    "means.to_csv(outfile)\n",
    "\n",
    "outfile = os.path.join(outpath,'pretone-mean-vels.csv')\n",
    "meds.to_csv(outfile)"
   ]
  },
  {
   "cell_type": "code",
   "execution_count": 9,
   "metadata": {
    "collapsed": true
   },
   "outputs": [],
   "source": [
    "means = sr.concat_data(meancsv,2)\n",
    "meds = sr.concat_data(medcsv,2)\n",
    "\n",
    "outfile = os.path.join(outpath,'shock-rat-pack-means.csv')\n",
    "means.to_csv(outfile)\n",
    "\n",
    "outfile = os.path.join(outpath,'shock-rat-pack-meds.csv')\n",
    "meds.to_csv(outfile)"
   ]
  },
  {
   "cell_type": "code",
   "execution_count": 10,
   "metadata": {
    "collapsed": true
   },
   "outputs": [],
   "source": [
    "means = sr.concat_data(meancsv,3)\n",
    "meds = sr.concat_data(medcsv,3)\n",
    "\n",
    "outfile = os.path.join(outpath,'postshock-rat-pack-means.csv')\n",
    "means.to_csv(outfile)\n",
    "\n",
    "outfile = os.path.join(outpath,'postshock-rat-pack-meds.csv')\n",
    "meds.to_csv(outfile)"
   ]
  }
 ],
 "metadata": {
  "kernelspec": {
   "display_name": "Python 3",
   "language": "python",
   "name": "python3"
  },
  "language_info": {
   "codemirror_mode": {
    "name": "ipython",
    "version": 3
   },
   "file_extension": ".py",
   "mimetype": "text/x-python",
   "name": "python",
   "nbconvert_exporter": "python",
   "pygments_lexer": "ipython3",
   "version": "3.6.3"
  }
 },
 "nbformat": 4,
 "nbformat_minor": 2
}
