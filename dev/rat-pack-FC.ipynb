{
 "cells": [
  {
   "cell_type": "markdown",
   "metadata": {},
   "source": [
    "# rat-pack concatenates csv outputs from scaredy-rat"
   ]
  },
  {
   "cell_type": "code",
   "execution_count": 1,
   "metadata": {
    "collapsed": true
   },
   "outputs": [],
   "source": [
    "%matplotlib inline\n",
    "%reload_ext autoreload\n",
    "%autoreload 2\n",
    "\n",
    "import numpy as np\n",
    "import pandas as pd\n",
    "import os, sys\n",
    "\n",
    "sys.path.append('../src')\n",
    "import scaredyrattools as sr"
   ]
  },
  {
   "cell_type": "markdown",
   "metadata": {},
   "source": [
    "# Change variables in this cell only"
   ]
  },
  {
   "cell_type": "code",
   "execution_count": 2,
   "metadata": {
    "collapsed": true
   },
   "outputs": [],
   "source": [
    "## This is the folder with all of the csvs\n",
    "inpath = '/Users/liannj/Documents/Anna/eCBData/OutputWeek7'\n",
    "\n",
    "## Wherever you want the output\n",
    "outpath = '/Users/liannj/Documents/Anna/eCBData/OutputWeek7/Compressed'"
   ]
  },
  {
   "cell_type": "markdown",
   "metadata": {},
   "source": [
    "## Function calls below"
   ]
  },
  {
   "cell_type": "code",
   "execution_count": 3,
   "metadata": {
    "collapsed": true
   },
   "outputs": [],
   "source": [
    "meancsv,SEMcsv,medcsv = sr.scaredy_read_FC(inpath)"
   ]
  },
  {
   "cell_type": "code",
   "execution_count": 4,
   "metadata": {
    "collapsed": true
   },
   "outputs": [],
   "source": [
    "means = sr.compress_FC_data(meancsv,0)\n",
    "SEMs = sr.compress_FC_data(SEMcsv,0)\n",
    "meds = sr.compress_FC_data(medcsv,0)\n",
    "\n",
    "allData = sr.concat_FC_data(means,SEMs, meds, 7)\n",
    "outfile = os.path.join(outpath,'All-FC-tone-data.csv')\n",
    "allData.to_csv(outfile)"
   ]
  },
  {
   "cell_type": "code",
   "execution_count": 5,
   "metadata": {
    "collapsed": true
   },
   "outputs": [],
   "source": [
    "means = sr.compress_FC_data(meancsv,1)\n",
    "SEMs = sr.compress_FC_data(SEMcsv,1)\n",
    "meds = sr.compress_FC_data(medcsv,1)\n",
    "\n",
    "allData = sr.concat_FC_data(means,SEMs,meds, 7)\n",
    "outfile = os.path.join(outpath,'All-FC-pretone-data.csv')\n",
    "allData.to_csv(outfile)"
   ]
  },
  {
   "cell_type": "code",
   "execution_count": 6,
   "metadata": {
    "collapsed": true
   },
   "outputs": [],
   "source": [
    "means = sr.compress_FC_data(meancsv,2)\n",
    "SEMs = sr.compress_FC_data(SEMcsv,2)\n",
    "meds = sr.compress_FC_data(medcsv,2)\n",
    "\n",
    "allData = sr.concat_FC_data(means,SEMs, meds, 7)\n",
    "outfile = os.path.join(outpath,'All-FC-shock-data.csv')\n",
    "allData.to_csv(outfile)"
   ]
  },
  {
   "cell_type": "code",
   "execution_count": 7,
   "metadata": {
    "collapsed": true
   },
   "outputs": [],
   "source": [
    "means = sr.compress_FC_data(meancsv,3)\n",
    "SEMs = sr.compress_FC_data(SEMcsv,3)\n",
    "meds = sr.compress_FC_data(medcsv,3)\n",
    "\n",
    "allData = sr.concat_FC_data(means,SEMs, meds, 7)\n",
    "outfile = os.path.join(outpath,'All-FC-postshock-data.csv')\n",
    "allData.to_csv(outfile)"
   ]
  },
  {
   "cell_type": "code",
   "execution_count": null,
   "metadata": {
    "collapsed": true
   },
   "outputs": [],
   "source": []
  }
 ],
 "metadata": {
  "kernelspec": {
   "display_name": "Python 3",
   "language": "python",
   "name": "python3"
  },
  "language_info": {
   "codemirror_mode": {
    "name": "ipython",
    "version": 3
   },
   "file_extension": ".py",
   "mimetype": "text/x-python",
   "name": "python",
   "nbconvert_exporter": "python",
   "pygments_lexer": "ipython3",
   "version": "3.6.3"
  }
 },
 "nbformat": 4,
 "nbformat_minor": 2
}
